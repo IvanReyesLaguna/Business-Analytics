{
 "cells": [
  {
   "attachments": {
    "UE_Madrid_Logo_Positive_RGB.png": {
     "image/png": "[encoded data removed]"
    }
   },
   "cell_type": "markdown",
   "id": "e48414ce",
   "metadata": {},
   "source": [
    "![UE_Madrid_Logo_Positive_RGB.png](attachment:UE_Madrid_Logo_Positive_RGB.png)"
   ]
  },
  {
   "cell_type": "markdown",
   "id": "b2e72130",
   "metadata": {},
   "source": [
    "\n",
    "# MÓDULO III: FUNDAMENTOS TECNOLÓGICOS EN DATA SCIENCE\n",
    "##  Actividad 2: Python"
   ]
  },
  {
   "cell_type": "markdown",
   "id": "0551768a",
   "metadata": {},
   "source": [
    "#### Autor : Iván Reyes Laguna                             \n",
    "#### Nº expediente: 222C2974\n",
    "#### Fecha de entrega: 28/01/2023"
   ]
  },
  {
   "cell_type": "markdown",
   "id": "68b062c3",
   "metadata": {},
   "source": [
    "# Actividad 2: Python\n",
    "\n",
    "La siguiente actividad debe ser realizada por todo el alumnado siguiendo las instrucciones de cada ejercicio.\n",
    "\n",
    "Las soluciones de cada ejercicio deben contener el código con el que han sido obtenidas. La indicación de un resultado sin el código correspondiente no será un ejercicio/apartado evaluable.\n",
    "\n",
    "Recuerda incluir todos los comentarios que consideres oportunos en tus códigos. Y que cuando generes una función debes utilizar el `Docstring` de forma que se pueda consultar la información y opciones de la función.\n",
    "\n",
    "Las respuestas las cuestiones deben estar explícitamente indicadas y todo el código debe ser visible.\n",
    "\n",
    "* Ejercicio 2.1: 1,5 puntos.\n",
    "* Ejercicio 2.2: 1,25 puntos.\n",
    "* Ejercicio 2.3: 0,75 puntos.\n",
    "* Ejercicio 2.4: 1,5 puntos.\n",
    "* Ejercicio 2.5: 2,75 puntos.\n",
    "* Ejercicio 2.6: 2,25 puntos.\n",
    "\n",
    "Esta actividad supone un 60% de la nota final del módulo de Python.\n",
    "\n",
    "La actividad debe ser entregada en formato preferiblemente `ipynb` y el nombre del archivo debe ser `PRIMER_APELLIDO_NOMBRE_ACTIVIDAD02` todo en mayúsculas.\n",
    "\n",
    "### <font color='red'> La fecha máxima de entrega es el día 28 de enero de 2023. </font>\n",
    "\n"
   ]
  },
  {
   "cell_type": "markdown",
   "id": "bd9dd2ce",
   "metadata": {},
   "source": [
    "## **Cargar librerias**"
   ]
  },
  {
   "cell_type": "code",
   "execution_count": 1,
   "id": "73d7014f",
   "metadata": {},
   "outputs": [],
   "source": [
    "import pandas as pd\n",
    "import numpy as np\n",
    "from scipy.stats import boxcox\n",
    "from scipy.stats import jarque_bera\n",
    "import matplotlib.pyplot as plt\n",
    "pd.options.mode.chained_assignment = None"
   ]
  },
  {
   "cell_type": "markdown",
   "id": "8277e34c",
   "metadata": {},
   "source": [
    "### Descripción de los datos a utilizar\n",
    "El archivo de datos a utilizar en la actividad es `tarjetas.txt`.\n",
    "Este archivo contiene información relativa a contratos de tarjetas de crédito de diferentes clientes de una empresa, e incluye los siguientes campos:\n",
    "* __idcliente:__ Código de dentificación interno de cada cliente, es un código único por cliente.\n",
    "* __idcontrato:__ Código de identificación del contrato.\n",
    "* __producto:__ Tipo de producto de la tarjeta. Los productos son: A, B y C.\n",
    "* __limite:__ Importe máximo del que puede disponer un cliente en la tarjeta.\n",
    "* __dispuesto:__ Importe dispuesto en la tarjeta.\n",
    "* __disponible:__ Importe que queda disponible en la tarjeta.\n",
    "* __contacto_cliente:__ Estado del último contacto telefónico realizado al cliente. Toma tres valores:\n",
    "    * 0: Rechaza volver a ser contactado.\n",
    "    * 1: Contacto no conseguido.\n",
    "    * 2: Contacto realizado.\n",
    "* __Impago:__ Situación contable de la tarjeta:\n",
    "    * 0: Fallido.\n",
    "    * 1: Impago.\n",
    "    * 2: Dudoso.\n",
    "    * 3: Normal.\n",
    "* __tipo:__ Indica el tipo de interés trimestral al que se cobra cada producto:\n",
    "    * Producto A: 18.75.\n",
    "    * Producto B: 10.25.\n",
    "    * Producto C: 6.33.\n",
    "\n",
    "El archivo contiene encabezados, un índice, los campos están separados por un tabulador y el separador decimal es la coma.\n",
    "    \n"
   ]
  },
  {
   "cell_type": "markdown",
   "id": "b49d6d1c",
   "metadata": {},
   "source": [
    "### Ejercicio 2.1: \n",
    "**2.1.1 Lee el fichero de datos `tarjetas.txt` y almacena la información en un `dataframe` de Pandas (llámalo `df`) y comprueba los registros que tiene el archivo.**\n",
    "\n",
    "**2.1.2 ¿Cuántos clientes distintos existen?**\n",
    "\n",
    "**2.1.3 ¿Qué cliente es el que tiene un mayor número contratos? Indica su `idcliente`, en caso de existir más de uno indica todos los id. ¿Cuántos contratos tiene/n este/os cliente/s**\n",
    "\n",
    "**2.1.4 ¿Cuántos contratos hay de que cada tipo de producto?**\n",
    "\n",
    "**2.1.5 Crea una nueva variable llamada `contacto_str` en que se haya sustituido sus valores por los siguientes textos:**\n",
    "+ Valor 0: rechazado\n",
    "+ Valor 1: ausente\n",
    "+ Valor 2: contactado\n",
    "\n",
    "**2.1.6 Crea una nueva variable llamada `pct_uso` que indique el porcentaje de utilización calculado como el cociente de `dispuesto` y `limite` en tantos por uno.** \n",
    "\n",
    "**2.1.7¿Cúantas tarjetas hay que se encuentren en situciacón de sobredisposición, es decir, que tengan un porcentaje de uso superior a 1?**\n",
    "\n",
    "**2.1.8 ¿Cuál es el límite mínimo, máximo y medio por producto? Muéstralo en un único dataframe.**"
   ]
  },
  {
   "cell_type": "markdown",
   "id": "ad39bf30",
   "metadata": {},
   "source": [
    "**2.1.1 Lee el fichero de datos `tarjetas.txt` y almacena la información en un `dataframe` de Pandas (llámalo `df`) y comprueba los registros que tiene el archivo.**"
   ]
  },
  {
   "cell_type": "code",
   "execution_count": 2,
   "id": "5fddd8e1",
   "metadata": {
    "scrolled": true
   },
   "outputs": [
    {
     "name": "stdout",
     "output_type": "stream",
     "text": [
      "(1589012, 10)\n"
     ]
    },
    {
     "data": {
      "text/html": [
       "<div>\n",
       "<style scoped>\n",
       "    .dataframe tbody tr th:only-of-type {\n",
       "        vertical-align: middle;\n",
       "    }\n",
       "\n",
       "    .dataframe tbody tr th {\n",
       "        vertical-align: top;\n",
       "    }\n",
       "\n",
       "    .dataframe thead th {\n",
       "        text-align: right;\n",
       "    }\n",
       "</style>\n",
       "<table border=\"1\" class=\"dataframe\">\n",
       "  <thead>\n",
       "    <tr style=\"text-align: right;\">\n",
       "      <th></th>\n",
       "      <th>Unnamed: 0</th>\n",
       "      <th>idcliente</th>\n",
       "      <th>idcontrato</th>\n",
       "      <th>limite</th>\n",
       "      <th>dispuesto</th>\n",
       "      <th>disponible</th>\n",
       "      <th>contacto_cliente</th>\n",
       "      <th>impago</th>\n",
       "      <th>producto</th>\n",
       "      <th>tipo</th>\n",
       "    </tr>\n",
       "  </thead>\n",
       "  <tbody>\n",
       "    <tr>\n",
       "      <th>0</th>\n",
       "      <td>0</td>\n",
       "      <td>13208123</td>\n",
       "      <td>283921503774</td>\n",
       "      <td>900.0</td>\n",
       "      <td>53.72</td>\n",
       "      <td>848.83</td>\n",
       "      <td>2</td>\n",
       "      <td>2</td>\n",
       "      <td>A</td>\n",
       "      <td>18.75</td>\n",
       "    </tr>\n",
       "    <tr>\n",
       "      <th>1</th>\n",
       "      <td>1</td>\n",
       "      <td>13001708</td>\n",
       "      <td>847838228331</td>\n",
       "      <td>1100.0</td>\n",
       "      <td>91.36</td>\n",
       "      <td>1012.99</td>\n",
       "      <td>2</td>\n",
       "      <td>2</td>\n",
       "      <td>B</td>\n",
       "      <td>10.25</td>\n",
       "    </tr>\n",
       "    <tr>\n",
       "      <th>2</th>\n",
       "      <td>2</td>\n",
       "      <td>12518311</td>\n",
       "      <td>475803017773</td>\n",
       "      <td>1600.0</td>\n",
       "      <td>606.33</td>\n",
       "      <td>1022.55</td>\n",
       "      <td>2</td>\n",
       "      <td>2</td>\n",
       "      <td>A</td>\n",
       "      <td>18.75</td>\n",
       "    </tr>\n",
       "    <tr>\n",
       "      <th>3</th>\n",
       "      <td>3</td>\n",
       "      <td>12809806</td>\n",
       "      <td>706975222824</td>\n",
       "      <td>500.0</td>\n",
       "      <td>92.21</td>\n",
       "      <td>412.18</td>\n",
       "      <td>1</td>\n",
       "      <td>3</td>\n",
       "      <td>B</td>\n",
       "      <td>10.25</td>\n",
       "    </tr>\n",
       "    <tr>\n",
       "      <th>4</th>\n",
       "      <td>4</td>\n",
       "      <td>12948369</td>\n",
       "      <td>216147508550</td>\n",
       "      <td>1700.0</td>\n",
       "      <td>497.81</td>\n",
       "      <td>1225.90</td>\n",
       "      <td>2</td>\n",
       "      <td>3</td>\n",
       "      <td>B</td>\n",
       "      <td>10.25</td>\n",
       "    </tr>\n",
       "    <tr>\n",
       "      <th>...</th>\n",
       "      <td>...</td>\n",
       "      <td>...</td>\n",
       "      <td>...</td>\n",
       "      <td>...</td>\n",
       "      <td>...</td>\n",
       "      <td>...</td>\n",
       "      <td>...</td>\n",
       "      <td>...</td>\n",
       "      <td>...</td>\n",
       "      <td>...</td>\n",
       "    </tr>\n",
       "    <tr>\n",
       "      <th>1589007</th>\n",
       "      <td>1589007</td>\n",
       "      <td>13220348</td>\n",
       "      <td>533950224758</td>\n",
       "      <td>1200.0</td>\n",
       "      <td>802.20</td>\n",
       "      <td>436.00</td>\n",
       "      <td>2</td>\n",
       "      <td>2</td>\n",
       "      <td>A</td>\n",
       "      <td>18.75</td>\n",
       "    </tr>\n",
       "    <tr>\n",
       "      <th>1589008</th>\n",
       "      <td>1589008</td>\n",
       "      <td>12528552</td>\n",
       "      <td>815525413876</td>\n",
       "      <td>1200.0</td>\n",
       "      <td>268.97</td>\n",
       "      <td>943.83</td>\n",
       "      <td>1</td>\n",
       "      <td>2</td>\n",
       "      <td>B</td>\n",
       "      <td>10.25</td>\n",
       "    </tr>\n",
       "    <tr>\n",
       "      <th>1589009</th>\n",
       "      <td>1589009</td>\n",
       "      <td>13338376</td>\n",
       "      <td>417430364011</td>\n",
       "      <td>1700.0</td>\n",
       "      <td>385.08</td>\n",
       "      <td>1333.26</td>\n",
       "      <td>2</td>\n",
       "      <td>3</td>\n",
       "      <td>B</td>\n",
       "      <td>10.25</td>\n",
       "    </tr>\n",
       "    <tr>\n",
       "      <th>1589010</th>\n",
       "      <td>1589010</td>\n",
       "      <td>12655633</td>\n",
       "      <td>732639882287</td>\n",
       "      <td>4900.0</td>\n",
       "      <td>2575.44</td>\n",
       "      <td>2447.20</td>\n",
       "      <td>2</td>\n",
       "      <td>2</td>\n",
       "      <td>A</td>\n",
       "      <td>18.75</td>\n",
       "    </tr>\n",
       "    <tr>\n",
       "      <th>1589011</th>\n",
       "      <td>1589011</td>\n",
       "      <td>12884956</td>\n",
       "      <td>954450763169</td>\n",
       "      <td>1600.0</td>\n",
       "      <td>838.34</td>\n",
       "      <td>801.58</td>\n",
       "      <td>2</td>\n",
       "      <td>1</td>\n",
       "      <td>B</td>\n",
       "      <td>10.25</td>\n",
       "    </tr>\n",
       "  </tbody>\n",
       "</table>\n",
       "<p>1589012 rows × 10 columns</p>\n",
       "</div>"
      ],
      "text/plain": [
       "         Unnamed: 0  idcliente    idcontrato  limite  dispuesto  disponible  \\\n",
       "0                 0   13208123  283921503774   900.0      53.72      848.83   \n",
       "1                 1   13001708  847838228331  1100.0      91.36     1012.99   \n",
       "2                 2   12518311  475803017773  1600.0     606.33     1022.55   \n",
       "3                 3   12809806  706975222824   500.0      92.21      412.18   \n",
       "4                 4   12948369  216147508550  1700.0     497.81     1225.90   \n",
       "...             ...        ...           ...     ...        ...         ...   \n",
       "1589007     1589007   13220348  533950224758  1200.0     802.20      436.00   \n",
       "1589008     1589008   12528552  815525413876  1200.0     268.97      943.83   \n",
       "1589009     1589009   13338376  417430364011  1700.0     385.08     1333.26   \n",
       "1589010     1589010   12655633  732639882287  4900.0    2575.44     2447.20   \n",
       "1589011     1589011   12884956  954450763169  1600.0     838.34      801.58   \n",
       "\n",
       "         contacto_cliente  impago producto   tipo  \n",
       "0                       2       2        A  18.75  \n",
       "1                       2       2        B  10.25  \n",
       "2                       2       2        A  18.75  \n",
       "3                       1       3        B  10.25  \n",
       "4                       2       3        B  10.25  \n",
       "...                   ...     ...      ...    ...  \n",
       "1589007                 2       2        A  18.75  \n",
       "1589008                 1       2        B  10.25  \n",
       "1589009                 2       3        B  10.25  \n",
       "1589010                 2       2        A  18.75  \n",
       "1589011                 2       1        B  10.25  \n",
       "\n",
       "[1589012 rows x 10 columns]"
      ]
     },
     "execution_count": 2,
     "metadata": {},
     "output_type": "execute_result"
    }
   ],
   "source": [
    "# Lectura del archivo\n",
    "df = pd.read_csv('tarjetas.txt', sep='\\t', decimal=',')\n",
    "# Comprobación de los registros\n",
    "print(df.shape) # Imprime la cantidad de filas y columnas del DataFrame\n",
    "df"
   ]
  },
  {
   "cell_type": "markdown",
   "id": "ed06e743",
   "metadata": {},
   "source": [
    "**2.1.2 ¿Cuántos clientes distintos existen?**\n"
   ]
  },
  {
   "cell_type": "code",
   "execution_count": 3,
   "id": "f1cbbcb3",
   "metadata": {},
   "outputs": [
    {
     "name": "stdout",
     "output_type": "stream",
     "text": [
      "Existen 795369 clientes distintos\n"
     ]
    }
   ],
   "source": [
    "clientes = df.idcliente.unique()\n",
    "print(f'Existen {len(clientes)} clientes distintos')"
   ]
  },
  {
   "cell_type": "markdown",
   "id": "3652cbf2",
   "metadata": {},
   "source": [
    "**2.1.3 ¿Qué cliente es el que tiene un mayor número contratos? Indica su `idcliente`, en caso de existir más de uno indica todos los id. ¿Cuántos contratos tiene/n este/os cliente/s**"
   ]
  },
  {
   "cell_type": "code",
   "execution_count": 4,
   "id": "b3dd77f8",
   "metadata": {
    "scrolled": true
   },
   "outputs": [
    {
     "data": {
      "text/html": [
       "<div>\n",
       "<style scoped>\n",
       "    .dataframe tbody tr th:only-of-type {\n",
       "        vertical-align: middle;\n",
       "    }\n",
       "\n",
       "    .dataframe tbody tr th {\n",
       "        vertical-align: top;\n",
       "    }\n",
       "\n",
       "    .dataframe thead th {\n",
       "        text-align: right;\n",
       "    }\n",
       "</style>\n",
       "<table border=\"1\" class=\"dataframe\">\n",
       "  <thead>\n",
       "    <tr style=\"text-align: right;\">\n",
       "      <th></th>\n",
       "      <th>idcliente</th>\n",
       "      <th>contratos</th>\n",
       "    </tr>\n",
       "  </thead>\n",
       "  <tbody>\n",
       "    <tr>\n",
       "      <th>38067</th>\n",
       "      <td>12393899</td>\n",
       "      <td>11</td>\n",
       "    </tr>\n",
       "    <tr>\n",
       "      <th>402906</th>\n",
       "      <td>12852593</td>\n",
       "      <td>11</td>\n",
       "    </tr>\n",
       "    <tr>\n",
       "      <th>391350</th>\n",
       "      <td>12838009</td>\n",
       "      <td>10</td>\n",
       "    </tr>\n",
       "    <tr>\n",
       "      <th>111427</th>\n",
       "      <td>12485918</td>\n",
       "      <td>10</td>\n",
       "    </tr>\n",
       "    <tr>\n",
       "      <th>105708</th>\n",
       "      <td>12478786</td>\n",
       "      <td>10</td>\n",
       "    </tr>\n",
       "    <tr>\n",
       "      <th>...</th>\n",
       "      <td>...</td>\n",
       "      <td>...</td>\n",
       "    </tr>\n",
       "    <tr>\n",
       "      <th>524240</th>\n",
       "      <td>13005046</td>\n",
       "      <td>1</td>\n",
       "    </tr>\n",
       "    <tr>\n",
       "      <th>219811</th>\n",
       "      <td>12622333</td>\n",
       "      <td>1</td>\n",
       "    </tr>\n",
       "    <tr>\n",
       "      <th>524237</th>\n",
       "      <td>13005043</td>\n",
       "      <td>1</td>\n",
       "    </tr>\n",
       "    <tr>\n",
       "      <th>524236</th>\n",
       "      <td>13005042</td>\n",
       "      <td>1</td>\n",
       "    </tr>\n",
       "    <tr>\n",
       "      <th>397684</th>\n",
       "      <td>12846058</td>\n",
       "      <td>1</td>\n",
       "    </tr>\n",
       "  </tbody>\n",
       "</table>\n",
       "<p>795369 rows × 2 columns</p>\n",
       "</div>"
      ],
      "text/plain": [
       "        idcliente  contratos\n",
       "38067    12393899         11\n",
       "402906   12852593         11\n",
       "391350   12838009         10\n",
       "111427   12485918         10\n",
       "105708   12478786         10\n",
       "...           ...        ...\n",
       "524240   13005046          1\n",
       "219811   12622333          1\n",
       "524237   13005043          1\n",
       "524236   13005042          1\n",
       "397684   12846058          1\n",
       "\n",
       "[795369 rows x 2 columns]"
      ]
     },
     "execution_count": 4,
     "metadata": {},
     "output_type": "execute_result"
    }
   ],
   "source": [
    "contratos_por_cliente = df.groupby('idcliente').size().reset_index(name='contratos')\n",
    "contratos_por_cliente = contratos_por_cliente.sort_values(by='contratos', ascending=False)\n",
    "contratos_por_cliente"
   ]
  },
  {
   "cell_type": "code",
   "execution_count": 5,
   "id": "e503a586",
   "metadata": {},
   "outputs": [
    {
     "name": "stdout",
     "output_type": "stream",
     "text": [
      "Los clientes con más contratos eson: 38067     12393899\n",
      "402906    12852593\n",
      "Name: idcliente, dtype: int64 con 11 contratos\n"
     ]
    }
   ],
   "source": [
    "# obtener el cliente con el máximo número de contratos\n",
    "cliente_mas_contratos = contratos_por_cliente.loc[contratos_por_cliente['contratos'] == contratos_por_cliente['contratos'].max(), 'idcliente']\n",
    "# imprimir el/los cliente/s y su/s id y el numero de contratos\n",
    "print(f'Los clientes con más contratos eson: {cliente_mas_contratos} con {contratos_por_cliente.contratos.max()} contratos')"
   ]
  },
  {
   "cell_type": "markdown",
   "id": "162355ad",
   "metadata": {},
   "source": [
    "**2.1.4 ¿Cuántos contratos hay de que cada tipo de producto?**"
   ]
  },
  {
   "cell_type": "code",
   "execution_count": 6,
   "id": "3cc32643",
   "metadata": {},
   "outputs": [
    {
     "name": "stdout",
     "output_type": "stream",
     "text": [
      "  producto  contratos\n",
      "0        A     483106\n",
      "1        B    1098551\n",
      "2        C       7355\n"
     ]
    }
   ],
   "source": [
    "contratos_por_producto = df.groupby('producto').size().reset_index(name='contratos')\n",
    "print(contratos_por_producto)"
   ]
  },
  {
   "cell_type": "markdown",
   "id": "93ebdccf",
   "metadata": {},
   "source": [
    "**2.1.5 Crea una nueva variable llamada `contacto_str` en que se haya sustituido sus valores por los siguientes textos:**\n",
    "+ Valor 0: rechazado\n",
    "+ Valor 1: ausente\n",
    "+ Valor 2: contactado"
   ]
  },
  {
   "cell_type": "code",
   "execution_count": 7,
   "id": "d2d49dd1",
   "metadata": {},
   "outputs": [
    {
     "name": "stdout",
     "output_type": "stream",
     "text": [
      "0          contactado\n",
      "1          contactado\n",
      "2          contactado\n",
      "3             ausente\n",
      "4          contactado\n",
      "              ...    \n",
      "1589007    contactado\n",
      "1589008       ausente\n",
      "1589009    contactado\n",
      "1589010    contactado\n",
      "1589011    contactado\n",
      "Name: contacto_str, Length: 1589012, dtype: object\n"
     ]
    }
   ],
   "source": [
    "df['contacto_str'] = df['contacto_cliente'].replace({0: 'rechazado', 1: 'ausente', 2: 'contactado'})\n",
    "print(df.contacto_str)"
   ]
  },
  {
   "cell_type": "markdown",
   "id": "ad38452d",
   "metadata": {},
   "source": [
    "**2.1.6 Crea una nueva variable llamada `pct_uso` que indique el porcentaje de utilización calculado como el cociente de `dispuesto` y `limite` en tantos por uno.** "
   ]
  },
  {
   "cell_type": "code",
   "execution_count": 8,
   "id": "47c6560c",
   "metadata": {},
   "outputs": [
    {
     "name": "stdout",
     "output_type": "stream",
     "text": [
      "0           5.968889\n",
      "1           8.305455\n",
      "2          37.895625\n",
      "3          18.442000\n",
      "4          29.282941\n",
      "             ...    \n",
      "1589007    66.850000\n",
      "1589008    22.414167\n",
      "1589009    22.651765\n",
      "1589010    52.560000\n",
      "1589011    52.396250\n",
      "Name: pct_uso, Length: 1589012, dtype: float64\n"
     ]
    }
   ],
   "source": [
    "df['pct_uso'] = df['dispuesto']/df['limite']*100\n",
    "print(df.pct_uso)"
   ]
  },
  {
   "cell_type": "markdown",
   "id": "4aa48bcb",
   "metadata": {},
   "source": [
    "**2.1.7¿Cúantas tarjetas hay que se encuentren en situciacón de sobredisposición, es decir, que tengan un porcentaje de uso superior a 1?**"
   ]
  },
  {
   "cell_type": "code",
   "execution_count": 9,
   "id": "061e6873",
   "metadata": {},
   "outputs": [
    {
     "name": "stdout",
     "output_type": "stream",
     "text": [
      "Hay 1571523 tarjetas en situación de sobredisposición\n"
     ]
    }
   ],
   "source": [
    "tarjetas_sobredisposicion = df.query('pct_uso > 1').count()['pct_uso']\n",
    "print(f'Hay {tarjetas_sobredisposicion} tarjetas en situación de sobredisposición')"
   ]
  },
  {
   "cell_type": "markdown",
   "id": "88e7ea91",
   "metadata": {},
   "source": [
    "**2.1.8 ¿Cuál es el límite mínimo, máximo y medio por producto? Muéstralo en un único dataframe.**"
   ]
  },
  {
   "cell_type": "code",
   "execution_count": 10,
   "id": "33132604",
   "metadata": {},
   "outputs": [
    {
     "name": "stdout",
     "output_type": "stream",
     "text": [
      "             min      max         mean\n",
      "producto                              \n",
      "A          500.0  14900.0  1851.049666\n",
      "B          500.0  14800.0  1258.262839\n",
      "C         3100.0  13200.0  4052.209381\n"
     ]
    }
   ],
   "source": [
    "limites_por_producto = df.groupby('producto')['limite'].agg(['min', 'max', 'mean'])\n",
    "print(limites_por_producto)"
   ]
  },
  {
   "cell_type": "markdown",
   "id": "e6bb2740",
   "metadata": {},
   "source": [
    "### Ejercicio 2.2:\n",
    "**2.2.1. Ya que existe un número determinado de clientes que han rechazado el contacto, genera un nuevo `dataframe` sin estos clientes llamado `df_fil` que sea una copia de `df`.**\n",
    "\n",
    "**2.2.2 Por cuestiones de calidad se ha detectado que existen contratos con un tipo de interés que no es uno de los estipulados para cada producto. Sobre df_fil genera una nueva variable llamada tipo_corr que tenga el tipo de interés correcto para cada producto ¿cuántos casos con tipo incorrecto hay?**\n",
    "\n",
    "**2.2.3 Sobre `df_fil` realiza las siguientes comprobaciones:**\n",
    "+ ¿Sobre los clientes contactados cual es el producto mayoritario?\n",
    "+ ¿que porcentaje de tarjetas se encuentran en situación de Impago?\n",
    "\n",
    "**Se considera que la cartera se encuentra en situación sostenible si el porcentaje de tarjetas en situación contable `dudoso` y `normal` supera el 80% del total de tarjetas ¿se verifica esta condición?**\n",
    "\n",
    " **Para la empresa el importe dispuesto de cada tarjeta genera un coste que depende de la situación contable:**\n",
    "   + Fallido: 120%.\n",
    "   + Impago: 100%.\n",
    "   + Dudoso: 10%\n",
    "   + Normal: 0%\n",
    "   \n",
    "**¿Cual es el coste total que supone a la empresa esta cartera?** \n",
    "\n",
    "**2.2.4 Cada tarjeta trae asociado un coste para el titular de la tarjeta, existen varios tipos de costes que se detallan a continuación:**\n",
    "\n",
    "\n",
    "+ _Coste por disposición:_ Es el coste que se calcula sobre el importe dispuesto, solo se aplica si se tiene un porcentaje dispuesto superior al 50% e inferior o igual al 100% y depende del producto, los porcentajes a aplicar son:\n",
    "    +  1% para el producto A.\n",
    "    + 3% para el producto B.\n",
    "    + 0% para el producto C.\n",
    "+ _Coste por sobre disposición:_ Es el coste que se calcula sobre el importe dispuesto por encima del límite:\n",
    "    + 15% para el producto: A.\n",
    "    + 10% para el producto: B.\n",
    "    +  5% para el producto: C.\n",
    "+ _Coste de no disposición:_ El coste de no disposición es el aplicado sobre el importe disponible siempre que el porcentaje de uso sea inferior al 20%. Y es:\n",
    "    + 2% para las tarjetas sin importes dispuestos.\n",
    "    + Para el resto de tarjetas un 0,15% por cada 5% dispuesto, es decir si es el porcentaje dispuesto está entre (0-5%] se asigna un 0,15% para ese tramo, si (5%-10%] se asigna un 0,30% un para ese tramo, etc.\n",
    "\n",
    "+ _Coste global de mantenimiento:_ Este coste se asigna proporcionalmente según el porcentaje de uso de la tarjeta. Aplicando una comisión mínima del 1,23% sobre el límite de la tarjeta y un máximo del 3%.\n",
    "\n",
    "    **Teniendo en cuenta lo anterior, crea una columna en `df_fil` que contenga el coste total por tarjeta, llámala `imp_comisiones`.**\n",
    "    \n",
    "**2.2.5 Crea un `dataframe` nuevo llamado `df_coste_cliente` que contenga para cada cliente el coste total de sus tarjetas (`imp_comisiones`) ¿Alguno de los clientes con mayor número de tarjetas (el obtenido en el ejercicio 2.1) es el que paga mayor importe en comisiones?**"
   ]
  },
  {
   "cell_type": "markdown",
   "id": "3381889b",
   "metadata": {},
   "source": [
    "**2.2.1. Ya que existe un número determinado de clientes que han rechazado el contacto, genera un nuevo `dataframe` sin estos clientes llamado `df_fil` que sea una copia de `df`.**"
   ]
  },
  {
   "cell_type": "code",
   "execution_count": 11,
   "id": "88a52447",
   "metadata": {},
   "outputs": [
    {
     "name": "stdout",
     "output_type": "stream",
     "text": [
      "         Unnamed: 0  idcliente    idcontrato  limite  dispuesto  disponible  \\\n",
      "0                 0   13208123  283921503774   900.0      53.72      848.83   \n",
      "1                 1   13001708  847838228331  1100.0      91.36     1012.99   \n",
      "2                 2   12518311  475803017773  1600.0     606.33     1022.55   \n",
      "3                 3   12809806  706975222824   500.0      92.21      412.18   \n",
      "4                 4   12948369  216147508550  1700.0     497.81     1225.90   \n",
      "...             ...        ...           ...     ...        ...         ...   \n",
      "1589007     1589007   13220348  533950224758  1200.0     802.20      436.00   \n",
      "1589008     1589008   12528552  815525413876  1200.0     268.97      943.83   \n",
      "1589009     1589009   13338376  417430364011  1700.0     385.08     1333.26   \n",
      "1589010     1589010   12655633  732639882287  4900.0    2575.44     2447.20   \n",
      "1589011     1589011   12884956  954450763169  1600.0     838.34      801.58   \n",
      "\n",
      "         contacto_cliente  impago producto   tipo contacto_str    pct_uso  \n",
      "0                       2       2        A  18.75   contactado   5.968889  \n",
      "1                       2       2        B  10.25   contactado   8.305455  \n",
      "2                       2       2        A  18.75   contactado  37.895625  \n",
      "3                       1       3        B  10.25      ausente  18.442000  \n",
      "4                       2       3        B  10.25   contactado  29.282941  \n",
      "...                   ...     ...      ...    ...          ...        ...  \n",
      "1589007                 2       2        A  18.75   contactado  66.850000  \n",
      "1589008                 1       2        B  10.25      ausente  22.414167  \n",
      "1589009                 2       3        B  10.25   contactado  22.651765  \n",
      "1589010                 2       2        A  18.75   contactado  52.560000  \n",
      "1589011                 2       1        B  10.25   contactado  52.396250  \n",
      "\n",
      "[1573127 rows x 12 columns]\n"
     ]
    }
   ],
   "source": [
    "df_fil = df.query('contacto_cliente != 0')\n",
    "print(df_fil)"
   ]
  },
  {
   "cell_type": "markdown",
   "id": "6441cf7d",
   "metadata": {},
   "source": [
    "**2.2.2 Por cuestiones de calidad se ha detectado que existen contratos con un tipo de interés que no es uno de los estipulados para cada producto. Sobre df_fil genera una nueva variable llamada tipo_corr que tenga el tipo de interés correcto para cada producto ¿cuántos casos con tipo incorrecto hay?**"
   ]
  },
  {
   "cell_type": "code",
   "execution_count": 12,
   "id": "f96a91d1",
   "metadata": {},
   "outputs": [
    {
     "name": "stdout",
     "output_type": "stream",
     "text": [
      "Hay 15873 casos con tipo incorrecto\n"
     ]
    }
   ],
   "source": [
    "df_fil.loc[df_fil['producto'] == 'A', 'tipo_corr'] = 18.75\n",
    "df_fil.loc[df_fil['producto'] == 'B', 'tipo_corr'] = 10.25\n",
    "df_fil.loc[df_fil['producto'] == 'C', 'tipo_corr'] = 6.33\n",
    "\n",
    "#contando casos con tipo incorrecto\n",
    "tipo_incorrecto = (df_fil['tipo'] != df_fil['tipo_corr']).sum()\n",
    "print(f'Hay {tipo_incorrecto} casos con tipo incorrecto')"
   ]
  },
  {
   "cell_type": "markdown",
   "id": "9cee65d8",
   "metadata": {},
   "source": [
    "**2.2.3 Sobre `df_fil` realiza las siguientes comprobaciones:**\n",
    "+ ¿Sobre los clientes contactados cual es el producto mayoritario?\n",
    "+ ¿que porcentaje de tarjetas se encuentran en situación de Impago?\n",
    "\n",
    "**Se considera que la cartera se encuentra en situación sostenible si el porcentaje de tarjetas en situación contable `dudoso` y `normal` supera el 80% del total de tarjetas ¿se verifica esta condición?**\n",
    "\n",
    " **Para la empresa el importe dispuesto de cada tarjeta genera un coste que depende de la situación contable:**\n",
    "   + Fallido: 120%.\n",
    "   + Impago: 100%.\n",
    "   + Dudoso: 10%\n",
    "   + Normal: 0%\n",
    "   \n",
    "**¿Cual es el coste total que supone a la empresa esta cartera?** "
   ]
  },
  {
   "cell_type": "code",
   "execution_count": 13,
   "id": "34bda528",
   "metadata": {},
   "outputs": [
    {
     "name": "stdout",
     "output_type": "stream",
     "text": [
      "El producto mayoritario entre los clientes contactados es B\n",
      "El porcentaje de tarjetas en situación de impago es del 9.62%\n",
      "El coste total de impagos es de 85172826.35\n"
     ]
    }
   ],
   "source": [
    "#Producto mayoritario entre clientes contactados\n",
    "df_contactados = df_fil.query('contacto_cliente == 2')\n",
    "producto_mayoritario = df_contactados['producto'].value_counts().idxmax()\n",
    "print(f'El producto mayoritario entre los clientes contactados es {producto_mayoritario}')\n",
    "\n",
    "#Porcentaje de tarjetas en situación de impago\n",
    "impagos = df_fil.query('impago == 1').count()['impago']\n",
    "porcentaje_impagos = (impagos/df_fil.shape[0])*100\n",
    "print(f'El porcentaje de tarjetas en situación de impago es del {porcentaje_impagos:.2f}%')\n",
    "\n",
    "#Coste total de impagos\n",
    "impagos_df = df_fil.query('impago == 1')\n",
    "coste_impagos = impagos_df['dispuesto'].sum()\n",
    "print(f'El coste total de impagos es de {coste_impagos}')"
   ]
  },
  {
   "cell_type": "code",
   "execution_count": 14,
   "id": "30dcc075",
   "metadata": {},
   "outputs": [
    {
     "name": "stdout",
     "output_type": "stream",
     "text": [
      "La cartera se encuentra en situación sostenible con un 89.58% de tarjetas en situación dudosa o normal\n"
     ]
    }
   ],
   "source": [
    "#Tarjetas en situación dudosa o normal\n",
    "situacion_sostenible = df_fil.query('impago in [2,3]').shape[0]\n",
    "\n",
    "#Porcentaje de tarjetas en situación sostenible\n",
    "porcentaje_sostenible = (situacion_sostenible/df_fil.shape[0])*100\n",
    "\n",
    "#Comprobando si se cumple la condición\n",
    "if porcentaje_sostenible > 80:\n",
    "    print(f'La cartera se encuentra en situación sostenible con un {porcentaje_sostenible:.2f}% de tarjetas en situación dudosa o normal')\n",
    "else:\n",
    "    print(f'La cartera no se encuentra en situación sostenible con un {porcentaje_sostenible:.2f}% de tarjetas en situación dudosa o normal')"
   ]
  },
  {
   "cell_type": "code",
   "execution_count": 15,
   "id": "4723a2b1",
   "metadata": {},
   "outputs": [
    {
     "name": "stdout",
     "output_type": "stream",
     "text": [
      "El coste total que supone a la empresa esta cartera es de 127458122.06\n"
     ]
    }
   ],
   "source": [
    "coste_total = df_fil.query('impago == 0')['dispuesto'].sum()*1.2 + df_fil.query('impago == 1')['dispuesto'].sum()*1.0 + df_fil.query('impago == 2')['dispuesto'].sum()*0.1\n",
    "\n",
    "print(f'El coste total que supone a la empresa esta cartera es de {coste_total:.2f}')"
   ]
  },
  {
   "cell_type": "markdown",
   "id": "4d40801e",
   "metadata": {},
   "source": [
    "   \n",
    "**2.2.4 Cada tarjeta trae asociado un coste para el titular de la tarjeta, existen varios tipos de costes que se detallan a continuación:**\n",
    "\n",
    "\n",
    "+ _Coste por disposición:_ Es el coste que se calcula sobre el importe dispuesto, solo se aplica si se tiene un porcentaje dispuesto superior al 50% e inferior o igual al 100% y depende del producto, los porcentajes a aplicar son:\n",
    "    +  1% para el producto A.\n",
    "    + 3% para el producto B.\n",
    "    + 0% para el producto C.\n",
    "+ _Coste por sobre disposición:_ Es el coste que se calcula sobre el importe dispuesto por encima del límite:\n",
    "    + 15% para el producto: A.\n",
    "    + 10% para el producto: B.\n",
    "    +  5% para el producto: C.\n",
    "+ _Coste de no disposición:_ El coste de no disposición es el aplicado sobre el importe disponible siempre que el porcentaje de uso sea inferior al 20%. Y es:\n",
    "    + 2% para las tarjetas sin importes dispuestos.\n",
    "    + Para el resto de tarjetas un 0,15% por cada 5% dispuesto, es decir si es el porcentaje dispuesto está entre (0-5%] se asigna un 0,15% para ese tramo, si (5%-10%] se asigna un 0,30% un para ese tramo, etc.\n",
    "\n",
    "+ _Coste global de mantenimiento:_ Este coste se asigna proporcionalmente según el porcentaje de uso de la tarjeta. Aplicando una comisión mínima del 1,23% sobre el límite de la tarjeta y un máximo del 3%.\n",
    "\n",
    "    **Teniendo en cuenta lo anterior, crea una columna en `df_fil` que contenga el coste total por tarjeta, llámala `imp_comisiones`.**\n",
    " "
   ]
  },
  {
   "cell_type": "code",
   "execution_count": 16,
   "id": "3adaf196",
   "metadata": {},
   "outputs": [],
   "source": [
    "def coste_total(row):\n",
    "    # coste por disposición\n",
    "    if row['pct_uso'] > 50 and row['pct_uso'] <= 100:\n",
    "        if row['producto'] == 'A':\n",
    "            coste_disp = row['dispuesto'] * 0.01\n",
    "        elif row['producto'] == 'B':\n",
    "            coste_disp = row['dispuesto'] * 0.03\n",
    "        else:\n",
    "            coste_disp = 0\n",
    "    else:\n",
    "        coste_disp = 0\n",
    "        \n",
    "    # coste por sobre disposición\n",
    "    if row['pct_uso'] > 100:\n",
    "        if row['producto'] == 'A':\n",
    "            coste_sobre_disp = (row['dispuesto'] - row['limite']) * 0.15\n",
    "        elif row['producto'] == 'B':\n",
    "            coste_sobre_disp = (row['dispuesto'] - row['limite']) * 0.1\n",
    "        else:\n",
    "            coste_sobre_disp = (row['dispuesto'] - row['limite']) * 0.05\n",
    "    else:\n",
    "        coste_sobre_disp = 0\n",
    "        \n",
    "    # coste de no disposición\n",
    "    if row['pct_uso'] < 20:\n",
    "        if row['disponible'] == 0:\n",
    "            coste_no_disp = 0.02\n",
    "        else:\n",
    "            tramo = row['pct_uso'] // 0.05\n",
    "            return row['disponible'] * (0.0015 * tramo)\n",
    "    else:\n",
    "        coste_no_disp = 0\n",
    "        \n",
    "    # coste global de mantenimiento\n",
    "    coste_mant = min(1.23 * row['limite'] / 100, 0.03)\n",
    "    \n",
    "    # coste total\n",
    "    coste_total = coste_disp + coste_sobre_disp + coste_no_disp + coste_mant\n",
    "    \n",
    "    return coste_total\n"
   ]
  },
  {
   "cell_type": "code",
   "execution_count": 17,
   "id": "5dda1985",
   "metadata": {},
   "outputs": [
    {
     "data": {
      "text/plain": [
       "0          151.516155\n",
       "1          252.234510\n",
       "2            0.030000\n",
       "3          227.523360\n",
       "4            0.030000\n",
       "              ...    \n",
       "1589007      8.052000\n",
       "1589008      0.030000\n",
       "1589009      0.030000\n",
       "1589010     25.784400\n",
       "1589011     25.180200\n",
       "Name: imp_comisiones, Length: 1573127, dtype: float64"
      ]
     },
     "execution_count": 17,
     "metadata": {},
     "output_type": "execute_result"
    }
   ],
   "source": [
    "df_fil['imp_comisiones'] = df_fil.apply(coste_total, axis=1)\n",
    "df_fil['imp_comisiones']"
   ]
  },
  {
   "cell_type": "markdown",
   "id": "a3b0fe80",
   "metadata": {},
   "source": [
    "**2.2.5 Crea un `dataframe` nuevo llamado `df_coste_cliente` que contenga para cada cliente el coste total de sus tarjetas (`imp_comisiones`) ¿Alguno de los clientes con mayor número de tarjetas (el obtenido en el ejercicio 2.1) es el que paga mayor importe en comisiones?**"
   ]
  },
  {
   "cell_type": "code",
   "execution_count": 18,
   "id": "18d04516",
   "metadata": {},
   "outputs": [
    {
     "data": {
      "text/html": [
       "<div>\n",
       "<style scoped>\n",
       "    .dataframe tbody tr th:only-of-type {\n",
       "        vertical-align: middle;\n",
       "    }\n",
       "\n",
       "    .dataframe tbody tr th {\n",
       "        vertical-align: top;\n",
       "    }\n",
       "\n",
       "    .dataframe thead th {\n",
       "        text-align: right;\n",
       "    }\n",
       "</style>\n",
       "<table border=\"1\" class=\"dataframe\">\n",
       "  <thead>\n",
       "    <tr style=\"text-align: right;\">\n",
       "      <th></th>\n",
       "      <th>idcliente</th>\n",
       "      <th>imp_comisiones</th>\n",
       "    </tr>\n",
       "  </thead>\n",
       "  <tbody>\n",
       "    <tr>\n",
       "      <th>0</th>\n",
       "      <td>12345678</td>\n",
       "      <td>166.097550</td>\n",
       "    </tr>\n",
       "    <tr>\n",
       "      <th>1</th>\n",
       "      <td>12345679</td>\n",
       "      <td>12.036900</td>\n",
       "    </tr>\n",
       "    <tr>\n",
       "      <th>2</th>\n",
       "      <td>12345680</td>\n",
       "      <td>0.060000</td>\n",
       "    </tr>\n",
       "    <tr>\n",
       "      <th>3</th>\n",
       "      <td>12345681</td>\n",
       "      <td>2184.038505</td>\n",
       "    </tr>\n",
       "    <tr>\n",
       "      <th>4</th>\n",
       "      <td>12345683</td>\n",
       "      <td>607.023420</td>\n",
       "    </tr>\n",
       "    <tr>\n",
       "      <th>...</th>\n",
       "      <td>...</td>\n",
       "      <td>...</td>\n",
       "    </tr>\n",
       "    <tr>\n",
       "      <th>792060</th>\n",
       "      <td>13345673</td>\n",
       "      <td>16.815600</td>\n",
       "    </tr>\n",
       "    <tr>\n",
       "      <th>792061</th>\n",
       "      <td>13345674</td>\n",
       "      <td>0.030000</td>\n",
       "    </tr>\n",
       "    <tr>\n",
       "      <th>792062</th>\n",
       "      <td>13345675</td>\n",
       "      <td>542.948220</td>\n",
       "    </tr>\n",
       "    <tr>\n",
       "      <th>792063</th>\n",
       "      <td>13345676</td>\n",
       "      <td>148.904400</td>\n",
       "    </tr>\n",
       "    <tr>\n",
       "      <th>792064</th>\n",
       "      <td>13345677</td>\n",
       "      <td>24.935400</td>\n",
       "    </tr>\n",
       "  </tbody>\n",
       "</table>\n",
       "<p>792065 rows × 2 columns</p>\n",
       "</div>"
      ],
      "text/plain": [
       "        idcliente  imp_comisiones\n",
       "0        12345678      166.097550\n",
       "1        12345679       12.036900\n",
       "2        12345680        0.060000\n",
       "3        12345681     2184.038505\n",
       "4        12345683      607.023420\n",
       "...           ...             ...\n",
       "792060   13345673       16.815600\n",
       "792061   13345674        0.030000\n",
       "792062   13345675      542.948220\n",
       "792063   13345676      148.904400\n",
       "792064   13345677       24.935400\n",
       "\n",
       "[792065 rows x 2 columns]"
      ]
     },
     "execution_count": 18,
     "metadata": {},
     "output_type": "execute_result"
    }
   ],
   "source": [
    "df_coste_cliente = df_fil.groupby('idcliente')['imp_comisiones'].sum().reset_index()\n",
    "df_coste_cliente"
   ]
  },
  {
   "cell_type": "code",
   "execution_count": 19,
   "id": "23cbef1a",
   "metadata": {},
   "outputs": [
    {
     "data": {
      "text/html": [
       "<div>\n",
       "<style scoped>\n",
       "    .dataframe tbody tr th:only-of-type {\n",
       "        vertical-align: middle;\n",
       "    }\n",
       "\n",
       "    .dataframe tbody tr th {\n",
       "        vertical-align: top;\n",
       "    }\n",
       "\n",
       "    .dataframe thead th {\n",
       "        text-align: right;\n",
       "    }\n",
       "</style>\n",
       "<table border=\"1\" class=\"dataframe\">\n",
       "  <thead>\n",
       "    <tr style=\"text-align: right;\">\n",
       "      <th></th>\n",
       "      <th>idcliente</th>\n",
       "      <th>imp_comisiones</th>\n",
       "      <th>contratos</th>\n",
       "    </tr>\n",
       "  </thead>\n",
       "  <tbody>\n",
       "    <tr>\n",
       "      <th>210669</th>\n",
       "      <td>12611967</td>\n",
       "      <td>6340.275300</td>\n",
       "      <td>5</td>\n",
       "    </tr>\n",
       "    <tr>\n",
       "      <th>508594</th>\n",
       "      <td>12988121</td>\n",
       "      <td>6279.657795</td>\n",
       "      <td>3</td>\n",
       "    </tr>\n",
       "    <tr>\n",
       "      <th>228492</th>\n",
       "      <td>12634424</td>\n",
       "      <td>5855.639490</td>\n",
       "      <td>4</td>\n",
       "    </tr>\n",
       "    <tr>\n",
       "      <th>102227</th>\n",
       "      <td>12474900</td>\n",
       "      <td>5543.309820</td>\n",
       "      <td>2</td>\n",
       "    </tr>\n",
       "    <tr>\n",
       "      <th>501604</th>\n",
       "      <td>12979194</td>\n",
       "      <td>5411.352405</td>\n",
       "      <td>2</td>\n",
       "    </tr>\n",
       "    <tr>\n",
       "      <th>...</th>\n",
       "      <td>...</td>\n",
       "      <td>...</td>\n",
       "      <td>...</td>\n",
       "    </tr>\n",
       "    <tr>\n",
       "      <th>510123</th>\n",
       "      <td>12990007</td>\n",
       "      <td>0.000000</td>\n",
       "      <td>1</td>\n",
       "    </tr>\n",
       "    <tr>\n",
       "      <th>481418</th>\n",
       "      <td>12953715</td>\n",
       "      <td>0.000000</td>\n",
       "      <td>1</td>\n",
       "    </tr>\n",
       "    <tr>\n",
       "      <th>620081</th>\n",
       "      <td>13128783</td>\n",
       "      <td>0.000000</td>\n",
       "      <td>1</td>\n",
       "    </tr>\n",
       "    <tr>\n",
       "      <th>582837</th>\n",
       "      <td>13081724</td>\n",
       "      <td>0.000000</td>\n",
       "      <td>1</td>\n",
       "    </tr>\n",
       "    <tr>\n",
       "      <th>235848</th>\n",
       "      <td>12643692</td>\n",
       "      <td>0.000000</td>\n",
       "      <td>1</td>\n",
       "    </tr>\n",
       "  </tbody>\n",
       "</table>\n",
       "<p>792065 rows × 3 columns</p>\n",
       "</div>"
      ],
      "text/plain": [
       "        idcliente  imp_comisiones  contratos\n",
       "210669   12611967     6340.275300          5\n",
       "508594   12988121     6279.657795          3\n",
       "228492   12634424     5855.639490          4\n",
       "102227   12474900     5543.309820          2\n",
       "501604   12979194     5411.352405          2\n",
       "...           ...             ...        ...\n",
       "510123   12990007        0.000000          1\n",
       "481418   12953715        0.000000          1\n",
       "620081   13128783        0.000000          1\n",
       "582837   13081724        0.000000          1\n",
       "235848   12643692        0.000000          1\n",
       "\n",
       "[792065 rows x 3 columns]"
      ]
     },
     "execution_count": 19,
     "metadata": {},
     "output_type": "execute_result"
    }
   ],
   "source": [
    "df_coste_cliente_tarjetas = df_coste_cliente.merge(contratos_por_cliente[['idcliente','contratos']].drop_duplicates(), on = 'idcliente')\n",
    "df_coste_cliente_tarjetas.sort_values(by='imp_comisiones', ascending=False, inplace=True)\n",
    "df_coste_cliente_tarjetas"
   ]
  },
  {
   "cell_type": "markdown",
   "id": "b439ec74",
   "metadata": {},
   "source": [
    "### Ejercicio 2.3:\n",
    "**Por cuestiones comerciales se han seleccionado cinco clientes: 12874803, 13067217, 13163055, 13335511, 12900036. Genera un `dataframe` llamado `clientes_vip` que contenta los siguientes campos e información para cada cliente:**\n",
    "* Edad: [41, 18, 33, 56, 42]\n",
    "* Nombre: [Pepa A., Antonio G., Fernando T., Rebeca S., Laura F.]\n",
    "* Ingresos anuales: [43000, 25000, 55000, 32000, 40000]\n",
    "\n",
    "**Genera un nuevo `dataframe` llamado `cli_vip_fin` que sea el resultado de añadir la información de `clientes_vip` a `df_fil` y que contenga únicamente los cinco clientes seleccionados.**\n",
    "\n",
    "**La campaña comercial consiste en bonificar a cada cliente de forma que se le otorga un 1% de bonficación por cada decada completa que han cumplido. Por ejemplo, un cliente con 59 años se le bonificaría con un 5%. Crea una columna llamada `bonificacion` que contenga el porcentaje de bonificación de cada cliente (sobre `cli_vip_fin`).**\n"
   ]
  },
  {
   "cell_type": "code",
   "execution_count": 20,
   "id": "3e253988",
   "metadata": {},
   "outputs": [
    {
     "data": {
      "text/html": [
       "<div>\n",
       "<style scoped>\n",
       "    .dataframe tbody tr th:only-of-type {\n",
       "        vertical-align: middle;\n",
       "    }\n",
       "\n",
       "    .dataframe tbody tr th {\n",
       "        vertical-align: top;\n",
       "    }\n",
       "\n",
       "    .dataframe thead th {\n",
       "        text-align: right;\n",
       "    }\n",
       "</style>\n",
       "<table border=\"1\" class=\"dataframe\">\n",
       "  <thead>\n",
       "    <tr style=\"text-align: right;\">\n",
       "      <th></th>\n",
       "      <th>idcliente</th>\n",
       "      <th>Edad</th>\n",
       "      <th>Nombre</th>\n",
       "      <th>Ingresos_anuales</th>\n",
       "    </tr>\n",
       "  </thead>\n",
       "  <tbody>\n",
       "    <tr>\n",
       "      <th>0</th>\n",
       "      <td>12874803</td>\n",
       "      <td>41</td>\n",
       "      <td>Pepa A.</td>\n",
       "      <td>43000</td>\n",
       "    </tr>\n",
       "    <tr>\n",
       "      <th>1</th>\n",
       "      <td>13067217</td>\n",
       "      <td>18</td>\n",
       "      <td>Antonio G.</td>\n",
       "      <td>25000</td>\n",
       "    </tr>\n",
       "    <tr>\n",
       "      <th>2</th>\n",
       "      <td>13163055</td>\n",
       "      <td>33</td>\n",
       "      <td>Fernando T.</td>\n",
       "      <td>55000</td>\n",
       "    </tr>\n",
       "    <tr>\n",
       "      <th>3</th>\n",
       "      <td>13335511</td>\n",
       "      <td>56</td>\n",
       "      <td>Rebeca S.</td>\n",
       "      <td>32000</td>\n",
       "    </tr>\n",
       "    <tr>\n",
       "      <th>4</th>\n",
       "      <td>12900036</td>\n",
       "      <td>42</td>\n",
       "      <td>Laura F.</td>\n",
       "      <td>40000</td>\n",
       "    </tr>\n",
       "  </tbody>\n",
       "</table>\n",
       "</div>"
      ],
      "text/plain": [
       "   idcliente  Edad       Nombre  Ingresos_anuales\n",
       "0   12874803    41      Pepa A.             43000\n",
       "1   13067217    18   Antonio G.             25000\n",
       "2   13163055    33  Fernando T.             55000\n",
       "3   13335511    56    Rebeca S.             32000\n",
       "4   12900036    42     Laura F.             40000"
      ]
     },
     "execution_count": 20,
     "metadata": {},
     "output_type": "execute_result"
    }
   ],
   "source": [
    "edad = [41, 18, 33, 56, 42]\n",
    "nombre = ['Pepa A.', 'Antonio G.', 'Fernando T.', 'Rebeca S.', 'Laura F.']\n",
    "ingresos_anuales = [43000, 25000, 55000, 32000, 40000]\n",
    "clientes_vip = pd.DataFrame({'idcliente': [12874803, 13067217, 13163055, 13335511, 12900036], \n",
    "                             'Edad': edad, 'Nombre': nombre, 'Ingresos_anuales': ingresos_anuales})\n",
    "clientes_vip"
   ]
  },
  {
   "cell_type": "code",
   "execution_count": 21,
   "id": "9d1afe2b",
   "metadata": {
    "scrolled": true
   },
   "outputs": [],
   "source": [
    "cli_vip_fin = pd.merge(df_fil, clientes_vip, on='idcliente', how='inner')"
   ]
  },
  {
   "cell_type": "code",
   "execution_count": 22,
   "id": "f42c0466",
   "metadata": {},
   "outputs": [],
   "source": [
    "def bonificacion(edad):\n",
    "    return edad // 10 * 0.01\n",
    "\n",
    "cli_vip_fin['bonificacion'] = cli_vip_fin['Edad'].apply(bonificacion)"
   ]
  },
  {
   "cell_type": "code",
   "execution_count": 23,
   "id": "5674c681",
   "metadata": {},
   "outputs": [
    {
     "data": {
      "text/html": [
       "<div>\n",
       "<style scoped>\n",
       "    .dataframe tbody tr th:only-of-type {\n",
       "        vertical-align: middle;\n",
       "    }\n",
       "\n",
       "    .dataframe tbody tr th {\n",
       "        vertical-align: top;\n",
       "    }\n",
       "\n",
       "    .dataframe thead th {\n",
       "        text-align: right;\n",
       "    }\n",
       "</style>\n",
       "<table border=\"1\" class=\"dataframe\">\n",
       "  <thead>\n",
       "    <tr style=\"text-align: right;\">\n",
       "      <th></th>\n",
       "      <th>Unnamed: 0</th>\n",
       "      <th>idcliente</th>\n",
       "      <th>idcontrato</th>\n",
       "      <th>limite</th>\n",
       "      <th>dispuesto</th>\n",
       "      <th>disponible</th>\n",
       "      <th>contacto_cliente</th>\n",
       "      <th>impago</th>\n",
       "      <th>producto</th>\n",
       "      <th>tipo</th>\n",
       "      <th>contacto_str</th>\n",
       "      <th>pct_uso</th>\n",
       "      <th>tipo_corr</th>\n",
       "      <th>imp_comisiones</th>\n",
       "      <th>Edad</th>\n",
       "      <th>Nombre</th>\n",
       "      <th>Ingresos_anuales</th>\n",
       "      <th>bonificacion</th>\n",
       "    </tr>\n",
       "  </thead>\n",
       "  <tbody>\n",
       "    <tr>\n",
       "      <th>0</th>\n",
       "      <td>134474</td>\n",
       "      <td>12900036</td>\n",
       "      <td>131729795387</td>\n",
       "      <td>2700.0</td>\n",
       "      <td>1507.83</td>\n",
       "      <td>1263.97</td>\n",
       "      <td>1</td>\n",
       "      <td>3</td>\n",
       "      <td>A</td>\n",
       "      <td>18.75</td>\n",
       "      <td>ausente</td>\n",
       "      <td>55.845556</td>\n",
       "      <td>18.75</td>\n",
       "      <td>15.10830</td>\n",
       "      <td>42</td>\n",
       "      <td>Laura F.</td>\n",
       "      <td>40000</td>\n",
       "      <td>0.04</td>\n",
       "    </tr>\n",
       "    <tr>\n",
       "      <th>1</th>\n",
       "      <td>805666</td>\n",
       "      <td>12900036</td>\n",
       "      <td>840893904299</td>\n",
       "      <td>1000.0</td>\n",
       "      <td>535.89</td>\n",
       "      <td>489.63</td>\n",
       "      <td>2</td>\n",
       "      <td>3</td>\n",
       "      <td>B</td>\n",
       "      <td>10.25</td>\n",
       "      <td>contactado</td>\n",
       "      <td>53.589000</td>\n",
       "      <td>10.25</td>\n",
       "      <td>16.10670</td>\n",
       "      <td>42</td>\n",
       "      <td>Laura F.</td>\n",
       "      <td>40000</td>\n",
       "      <td>0.04</td>\n",
       "    </tr>\n",
       "    <tr>\n",
       "      <th>2</th>\n",
       "      <td>303813</td>\n",
       "      <td>13163055</td>\n",
       "      <td>686425952941</td>\n",
       "      <td>800.0</td>\n",
       "      <td>298.40</td>\n",
       "      <td>515.81</td>\n",
       "      <td>1</td>\n",
       "      <td>2</td>\n",
       "      <td>B</td>\n",
       "      <td>10.25</td>\n",
       "      <td>ausente</td>\n",
       "      <td>37.300000</td>\n",
       "      <td>10.25</td>\n",
       "      <td>0.03000</td>\n",
       "      <td>33</td>\n",
       "      <td>Fernando T.</td>\n",
       "      <td>55000</td>\n",
       "      <td>0.03</td>\n",
       "    </tr>\n",
       "    <tr>\n",
       "      <th>3</th>\n",
       "      <td>357785</td>\n",
       "      <td>13163055</td>\n",
       "      <td>248040339616</td>\n",
       "      <td>700.0</td>\n",
       "      <td>193.32</td>\n",
       "      <td>515.88</td>\n",
       "      <td>2</td>\n",
       "      <td>3</td>\n",
       "      <td>B</td>\n",
       "      <td>10.25</td>\n",
       "      <td>contactado</td>\n",
       "      <td>27.617143</td>\n",
       "      <td>10.25</td>\n",
       "      <td>0.03000</td>\n",
       "      <td>33</td>\n",
       "      <td>Fernando T.</td>\n",
       "      <td>55000</td>\n",
       "      <td>0.03</td>\n",
       "    </tr>\n",
       "    <tr>\n",
       "      <th>4</th>\n",
       "      <td>1302512</td>\n",
       "      <td>13163055</td>\n",
       "      <td>341111296229</td>\n",
       "      <td>900.0</td>\n",
       "      <td>541.79</td>\n",
       "      <td>384.01</td>\n",
       "      <td>2</td>\n",
       "      <td>2</td>\n",
       "      <td>B</td>\n",
       "      <td>10.25</td>\n",
       "      <td>contactado</td>\n",
       "      <td>60.198889</td>\n",
       "      <td>10.25</td>\n",
       "      <td>16.28370</td>\n",
       "      <td>33</td>\n",
       "      <td>Fernando T.</td>\n",
       "      <td>55000</td>\n",
       "      <td>0.03</td>\n",
       "    </tr>\n",
       "    <tr>\n",
       "      <th>5</th>\n",
       "      <td>618126</td>\n",
       "      <td>13067217</td>\n",
       "      <td>633069101219</td>\n",
       "      <td>1500.0</td>\n",
       "      <td>627.03</td>\n",
       "      <td>902.83</td>\n",
       "      <td>2</td>\n",
       "      <td>1</td>\n",
       "      <td>B</td>\n",
       "      <td>10.25</td>\n",
       "      <td>contactado</td>\n",
       "      <td>41.802000</td>\n",
       "      <td>10.25</td>\n",
       "      <td>0.03000</td>\n",
       "      <td>18</td>\n",
       "      <td>Antonio G.</td>\n",
       "      <td>25000</td>\n",
       "      <td>0.01</td>\n",
       "    </tr>\n",
       "    <tr>\n",
       "      <th>6</th>\n",
       "      <td>1091190</td>\n",
       "      <td>13335511</td>\n",
       "      <td>926207365437</td>\n",
       "      <td>700.0</td>\n",
       "      <td>103.61</td>\n",
       "      <td>601.33</td>\n",
       "      <td>2</td>\n",
       "      <td>2</td>\n",
       "      <td>B</td>\n",
       "      <td>10.25</td>\n",
       "      <td>contactado</td>\n",
       "      <td>14.801429</td>\n",
       "      <td>10.25</td>\n",
       "      <td>266.99052</td>\n",
       "      <td>56</td>\n",
       "      <td>Rebeca S.</td>\n",
       "      <td>32000</td>\n",
       "      <td>0.05</td>\n",
       "    </tr>\n",
       "  </tbody>\n",
       "</table>\n",
       "</div>"
      ],
      "text/plain": [
       "   Unnamed: 0  idcliente    idcontrato  limite  dispuesto  disponible  \\\n",
       "0      134474   12900036  131729795387  2700.0    1507.83     1263.97   \n",
       "1      805666   12900036  840893904299  1000.0     535.89      489.63   \n",
       "2      303813   13163055  686425952941   800.0     298.40      515.81   \n",
       "3      357785   13163055  248040339616   700.0     193.32      515.88   \n",
       "4     1302512   13163055  341111296229   900.0     541.79      384.01   \n",
       "5      618126   13067217  633069101219  1500.0     627.03      902.83   \n",
       "6     1091190   13335511  926207365437   700.0     103.61      601.33   \n",
       "\n",
       "   contacto_cliente  impago producto   tipo contacto_str    pct_uso  \\\n",
       "0                 1       3        A  18.75      ausente  55.845556   \n",
       "1                 2       3        B  10.25   contactado  53.589000   \n",
       "2                 1       2        B  10.25      ausente  37.300000   \n",
       "3                 2       3        B  10.25   contactado  27.617143   \n",
       "4                 2       2        B  10.25   contactado  60.198889   \n",
       "5                 2       1        B  10.25   contactado  41.802000   \n",
       "6                 2       2        B  10.25   contactado  14.801429   \n",
       "\n",
       "   tipo_corr  imp_comisiones  Edad       Nombre  Ingresos_anuales  \\\n",
       "0      18.75        15.10830    42     Laura F.             40000   \n",
       "1      10.25        16.10670    42     Laura F.             40000   \n",
       "2      10.25         0.03000    33  Fernando T.             55000   \n",
       "3      10.25         0.03000    33  Fernando T.             55000   \n",
       "4      10.25        16.28370    33  Fernando T.             55000   \n",
       "5      10.25         0.03000    18   Antonio G.             25000   \n",
       "6      10.25       266.99052    56    Rebeca S.             32000   \n",
       "\n",
       "   bonificacion  \n",
       "0          0.04  \n",
       "1          0.04  \n",
       "2          0.03  \n",
       "3          0.03  \n",
       "4          0.03  \n",
       "5          0.01  \n",
       "6          0.05  "
      ]
     },
     "execution_count": 23,
     "metadata": {},
     "output_type": "execute_result"
    }
   ],
   "source": [
    "cli_vip_fin"
   ]
  },
  {
   "cell_type": "markdown",
   "id": "85a58e16",
   "metadata": {},
   "source": [
    "### Ejercicio 2.4\n",
    "**Realiza una copia del objeto `df` y llámalo `df2_4`, sobre este conjunto de datos realiza las siguientes operaciones:**\n",
    "\n",
    "**2.4.1 Crea una variable llamada `limite_gr` de forma que contenga una versión categorizada de la variable `limite` conforme a los siguientes tramos:**\n",
    "\n",
    "\n",
    "    * 01. [0, 700]\n",
    "    * 02. (700, 800]\n",
    "    * 03. (800, 1200]\n",
    "    * 04. (1200, 1700]\n",
    "    * 05. (1700, 2500]\n",
    "    * 06. (2500, 5000]\n",
    "    * 07. (5000, 8000]\n",
    "    * 08. (8000, 10000]\n",
    "    * 09. (10000, 20000]\n",
    "    \n",
    "**2.4.2 ¿Cuántos registros hay en cada categoría de la variable `limite_gr`? ¿Cuál es el que acumula un mayor porcentaje de registros y qué porcentaje es?**\n",
    "\n",
    "**2.4.3 Selecciona una muestra aleatoria del 10% de los registros de `df2_4` y almacenála en `df2_4_smp`. ¿Qué porcentaje de registros hay en cada categoría de la variable `limite_gr` en la muestra?**\n",
    "\n",
    "**2.4.4 Compara ambos porcentajes en el mismo dataframe.**\n",
    "\n",
    "**2.4.5 Dentro de la empresa se utiliza la cifra $$\\frac{disponible ^2 - k \\cdot dispuesto}{limite^2}$$ como un factor de propensión a la sobreutilización de la tarjeta. El componente $k$ toma un valor que depende del límite de la operación:**\n",
    "\n",
    "    * k = 0.5 si limite < 1500\n",
    "    * k = 1 si limite < 5000\n",
    "    * k = 1.2 si limite < 10.000\n",
    "    * k = 1.5 si limite >= 10.000\n",
    "    Crea una columna llamada `propension` de forma que contenga el cálculo anterior realizado a través de una función.\n",
    "    \n",
    "**2.4.6 Dibuja el histograma de la variable `propension`.**\n",
    "\n",
    "**2.4.7 ¿Cuántos registros tienen una propensión entre 0.95 y 1.05?**\n",
    "\n",
    "**2.4.8 ¿Cada factor $k$ a cuántos registros ha sido aplicado?**\n",
    "\n",
    "2.4.9 La `propension` permite conocer si hay un alto o bajo riesgo de que el limite de la tarjeta pueda llegar a ser superado. Para ello es necesario identificar que registros son de alto riesgo y cuáles no. Crea una columna llamada `riesgo` que contenga los valores `alto riesgo` y `bajo riesgo`, se considera que un cliente es de `alto riesgo` si la propensión supera al porcentaje de uso.\n",
    "2.4.10 Para priorizar acciones comerciales se desea marcar al 5% de los clientes con menor porcentaje de uso con la etiqueta `prioridad 1`, al 1% de los clientes con mayor porcentaje de uso como `prioridad 4`, al 21% de los clientes con mayor porcentaje de uso con `prioridad 3` y el resto con `prioridad 2`.\n",
    "    El porcentaje de uso a utilizar debe ser agregado para cada cliente ¿cuántos clientes hay en cada grupo de prioridad?\n",
    "    \n",
    "2.4.11 La empresa ha decidido aplicar una comisión de un 1,5% a las tarjetas de alto riesgo sobre el importe disponible y una bonificación del 0,43% a las tarjetas de bajo riesgo sobre el importe dispuesto.\n",
    "    * ¿Cuál es el importe total recaudado por la empresa con este nuevo importe?\n",
    "    * ¿Qué coste tiene para la empresa esta nueva bonificación?\n",
    "    * ¿Ha resultado beneficioso para la empresa aplicar esta nueva medida?"
   ]
  },
  {
   "cell_type": "code",
   "execution_count": 24,
   "id": "e6c9453b",
   "metadata": {
    "scrolled": true
   },
   "outputs": [],
   "source": [
    "df2_4 = df.copy()"
   ]
  },
  {
   "cell_type": "markdown",
   "id": "d6c85d21",
   "metadata": {},
   "source": [
    "**2.4.1. Crea una variable llamada `limite_gr` de forma que contenga una versión categorizada de la variable `limite` conforme a los siguientes tramos:**\n",
    "\n",
    "+ 01. [0, 700]\n",
    "+ 02. (700, 800]\n",
    "+ 03. (800, 1200]\n",
    "+ 04. (1200, 1700]\n",
    "+ 05. (1700, 2500]\n",
    "+ 06. (2500, 5000]\n",
    "+ 07. (5000, 8000]\n",
    "+ 08. (8000, 10000]\n",
    "+ 09. (10000, 20000]"
   ]
  },
  {
   "cell_type": "code",
   "execution_count": 25,
   "id": "160543d4",
   "metadata": {},
   "outputs": [
    {
     "data": {
      "text/plain": [
       "0          C\n",
       "1          C\n",
       "2          D\n",
       "3          A\n",
       "4          D\n",
       "          ..\n",
       "1589007    C\n",
       "1589008    C\n",
       "1589009    D\n",
       "1589010    F\n",
       "1589011    D\n",
       "Name: limite_gr, Length: 1589012, dtype: category\n",
       "Categories (9, object): ['A' < 'B' < 'C' < 'D' ... 'F' < 'G' < 'H' < 'I']"
      ]
     },
     "execution_count": 25,
     "metadata": {},
     "output_type": "execute_result"
    }
   ],
   "source": [
    "df2_4['limite_gr'] = pd.cut(df2_4['limite'], bins=[0, 700, 800, 1200, 1700, 2500, 5000, 8000, 10000, 20000], labels=['A', 'B', 'C', 'D', 'E', 'F', 'G', 'H', 'I'])\n",
    "df2_4['limite_gr']"
   ]
  },
  {
   "cell_type": "markdown",
   "id": "da0a9515",
   "metadata": {},
   "source": [
    "**2.4.2 ¿Cuántos registros hay en cada categoría de la variable `limite_gr`? ¿Cuál es el que acumula un mayor porcentaje de registros y qué porcentaje es?**"
   ]
  },
  {
   "cell_type": "code",
   "execution_count": 26,
   "id": "ee540129",
   "metadata": {},
   "outputs": [
    {
     "name": "stdout",
     "output_type": "stream",
     "text": [
      "Categoría: A, Registros: 411836, Porcentaje: 25.92%\n",
      "Categoría: C, Registros: 351285, Porcentaje: 22.11%\n",
      "Categoría: D, Registros: 281025, Porcentaje: 17.69%\n",
      "Categoría: E, Registros: 238344, Porcentaje: 15.00%\n",
      "Categoría: F, Registros: 178629, Porcentaje: 11.24%\n",
      "Categoría: B, Registros: 111813, Porcentaje: 7.04%\n",
      "Categoría: G, Registros: 15295, Porcentaje: 0.96%\n",
      "Categoría: H, Registros: 684, Porcentaje: 0.04%\n",
      "Categoría: I, Registros: 101, Porcentaje: 0.01%\n"
     ]
    }
   ],
   "source": [
    "contador = df2_4['limite_gr'].value_counts()\n",
    "\n",
    "for categoria, contador in contador.items():\n",
    "    porcentaje = contador / len(df2_4) * 100\n",
    "    print(f\"Categoría: {categoria}, Registros: {contador}, Porcentaje: {porcentaje:.2f}%\")"
   ]
  },
  {
   "cell_type": "markdown",
   "id": "304a5957",
   "metadata": {},
   "source": [
    "**2.4.3 Selecciona una muestra aleatoria del 10% de los registros de `df2_4` y almacenála en `df2_4_smp`. ¿Qué porcentaje de registros hay en cada categoría de la variable `limite_gr` en la muestra?**"
   ]
  },
  {
   "cell_type": "code",
   "execution_count": 27,
   "id": "a5893f68",
   "metadata": {},
   "outputs": [
    {
     "name": "stdout",
     "output_type": "stream",
     "text": [
      "A    25.997319\n",
      "C    22.091743\n",
      "D    17.729907\n",
      "E    14.991724\n",
      "F    11.162296\n",
      "B     7.010654\n",
      "G     0.974191\n",
      "H     0.033983\n",
      "I     0.008181\n",
      "Name: limite_gr, dtype: float64\n"
     ]
    }
   ],
   "source": [
    "df2_4_smp = df2_4.sample(frac=0.1)\n",
    "counts = df2_4_smp['limite_gr'].value_counts()\n",
    "pct = counts / len(df2_4_smp) * 100\n",
    "print(pct)"
   ]
  },
  {
   "cell_type": "markdown",
   "id": "e90ed325",
   "metadata": {},
   "source": [
    "**2.4.4 Compara ambos porcentajes en el mismo dataframe.**"
   ]
  },
  {
   "cell_type": "code",
   "execution_count": 28,
   "id": "a76cb392",
   "metadata": {},
   "outputs": [
    {
     "data": {
      "text/html": [
       "<div>\n",
       "<style scoped>\n",
       "    .dataframe tbody tr th:only-of-type {\n",
       "        vertical-align: middle;\n",
       "    }\n",
       "\n",
       "    .dataframe tbody tr th {\n",
       "        vertical-align: top;\n",
       "    }\n",
       "\n",
       "    .dataframe thead th {\n",
       "        text-align: right;\n",
       "    }\n",
       "</style>\n",
       "<table border=\"1\" class=\"dataframe\">\n",
       "  <thead>\n",
       "    <tr style=\"text-align: right;\">\n",
       "      <th></th>\n",
       "      <th>limite_gr</th>\n",
       "      <th>Porcentaje</th>\n",
       "      <th>Tipo</th>\n",
       "    </tr>\n",
       "  </thead>\n",
       "  <tbody>\n",
       "    <tr>\n",
       "      <th>0</th>\n",
       "      <td>A</td>\n",
       "      <td>25.997319</td>\n",
       "      <td>Muestra</td>\n",
       "    </tr>\n",
       "    <tr>\n",
       "      <th>0</th>\n",
       "      <td>A</td>\n",
       "      <td>25.917740</td>\n",
       "      <td>Original</td>\n",
       "    </tr>\n",
       "    <tr>\n",
       "      <th>1</th>\n",
       "      <td>C</td>\n",
       "      <td>22.107133</td>\n",
       "      <td>Original</td>\n",
       "    </tr>\n",
       "    <tr>\n",
       "      <th>1</th>\n",
       "      <td>C</td>\n",
       "      <td>22.091743</td>\n",
       "      <td>Muestra</td>\n",
       "    </tr>\n",
       "    <tr>\n",
       "      <th>2</th>\n",
       "      <td>D</td>\n",
       "      <td>17.729907</td>\n",
       "      <td>Muestra</td>\n",
       "    </tr>\n",
       "    <tr>\n",
       "      <th>2</th>\n",
       "      <td>D</td>\n",
       "      <td>17.685518</td>\n",
       "      <td>Original</td>\n",
       "    </tr>\n",
       "    <tr>\n",
       "      <th>3</th>\n",
       "      <td>E</td>\n",
       "      <td>14.999509</td>\n",
       "      <td>Original</td>\n",
       "    </tr>\n",
       "    <tr>\n",
       "      <th>3</th>\n",
       "      <td>E</td>\n",
       "      <td>14.991724</td>\n",
       "      <td>Muestra</td>\n",
       "    </tr>\n",
       "    <tr>\n",
       "      <th>4</th>\n",
       "      <td>F</td>\n",
       "      <td>11.241514</td>\n",
       "      <td>Original</td>\n",
       "    </tr>\n",
       "    <tr>\n",
       "      <th>4</th>\n",
       "      <td>F</td>\n",
       "      <td>11.162296</td>\n",
       "      <td>Muestra</td>\n",
       "    </tr>\n",
       "    <tr>\n",
       "      <th>5</th>\n",
       "      <td>B</td>\n",
       "      <td>7.036637</td>\n",
       "      <td>Original</td>\n",
       "    </tr>\n",
       "    <tr>\n",
       "      <th>5</th>\n",
       "      <td>B</td>\n",
       "      <td>7.010654</td>\n",
       "      <td>Muestra</td>\n",
       "    </tr>\n",
       "    <tr>\n",
       "      <th>6</th>\n",
       "      <td>G</td>\n",
       "      <td>0.974191</td>\n",
       "      <td>Muestra</td>\n",
       "    </tr>\n",
       "    <tr>\n",
       "      <th>6</th>\n",
       "      <td>G</td>\n",
       "      <td>0.962548</td>\n",
       "      <td>Original</td>\n",
       "    </tr>\n",
       "    <tr>\n",
       "      <th>7</th>\n",
       "      <td>H</td>\n",
       "      <td>0.043046</td>\n",
       "      <td>Original</td>\n",
       "    </tr>\n",
       "    <tr>\n",
       "      <th>7</th>\n",
       "      <td>H</td>\n",
       "      <td>0.033983</td>\n",
       "      <td>Muestra</td>\n",
       "    </tr>\n",
       "    <tr>\n",
       "      <th>8</th>\n",
       "      <td>I</td>\n",
       "      <td>0.008181</td>\n",
       "      <td>Muestra</td>\n",
       "    </tr>\n",
       "    <tr>\n",
       "      <th>8</th>\n",
       "      <td>I</td>\n",
       "      <td>0.006356</td>\n",
       "      <td>Original</td>\n",
       "    </tr>\n",
       "  </tbody>\n",
       "</table>\n",
       "</div>"
      ],
      "text/plain": [
       "  limite_gr  Porcentaje      Tipo\n",
       "0         A   25.997319   Muestra\n",
       "0         A   25.917740  Original\n",
       "1         C   22.107133  Original\n",
       "1         C   22.091743   Muestra\n",
       "2         D   17.729907   Muestra\n",
       "2         D   17.685518  Original\n",
       "3         E   14.999509  Original\n",
       "3         E   14.991724   Muestra\n",
       "4         F   11.241514  Original\n",
       "4         F   11.162296   Muestra\n",
       "5         B    7.036637  Original\n",
       "5         B    7.010654   Muestra\n",
       "6         G    0.974191   Muestra\n",
       "6         G    0.962548  Original\n",
       "7         H    0.043046  Original\n",
       "7         H    0.033983   Muestra\n",
       "8         I    0.008181   Muestra\n",
       "8         I    0.006356  Original"
      ]
     },
     "execution_count": 28,
     "metadata": {},
     "output_type": "execute_result"
    }
   ],
   "source": [
    "# Calcular porcentajes en el conjunto original\n",
    "limite_gr_counts = df2_4['limite_gr'].value_counts()\n",
    "limite_gr_pcts = limite_gr_counts / len(df2_4) * 100\n",
    "df_original = pd.DataFrame({'Porcentaje': limite_gr_pcts}).reset_index()\n",
    "df_original.columns = ['limite_gr', 'Porcentaje']\n",
    "df_original['Tipo'] = 'Original'\n",
    "\n",
    "# Calcular porcentajes en la muestra\n",
    "limite_gr_counts_smp = df2_4_smp['limite_gr'].value_counts()\n",
    "limite_gr_pcts_smp = limite_gr_counts_smp / len(df2_4_smp) * 100\n",
    "df_muestra = pd.DataFrame({'Porcentaje': limite_gr_pcts_smp}).reset_index()\n",
    "df_muestra.columns = ['limite_gr', 'Porcentaje']\n",
    "df_muestra['Tipo'] = 'Muestra'\n",
    "\n",
    "# Unir ambos dataframes en uno solo y ordenarlo\n",
    "df_comparacion = pd.concat([df_original, df_muestra])\n",
    "df_comparacion = df_comparacion.sort_values(by='Porcentaje', ascending=False)\n",
    "df_comparacion"
   ]
  },
  {
   "cell_type": "markdown",
   "id": "b293bcab",
   "metadata": {},
   "source": [
    "**2.4.5 Dentro de la empresa se utiliza la cifra $$\\frac{disponible ^2 - k \\cdot dispuesto}{limite^2}$$ como un factor de propensión a la sobreutilización de la tarjeta. El componente $k$ toma un valor que depende del límite de la operación:\n",
    "    * k = 0.5 si limite < 1500\n",
    "    * k = 1 si limite < 5000\n",
    "    * k = 1.2 si limite < 10.000\n",
    "    * k = 1.5 si limite >= 10.000\n",
    "  Crea una columna llamada `propension` de forma que contenga el cálculo anterior realizado a través de una función.**"
   ]
  },
  {
   "cell_type": "code",
   "execution_count": 29,
   "id": "96c90de1",
   "metadata": {},
   "outputs": [
    {
     "data": {
      "text/plain": [
       "0          0.889488\n",
       "1          0.848019\n",
       "2          0.408204\n",
       "3          0.679385\n",
       "4          0.519838\n",
       "             ...   \n",
       "1589007    0.131733\n",
       "1589008    0.618528\n",
       "1589009    0.614947\n",
       "1589010    0.249322\n",
       "1589011    0.250661\n",
       "Name: propension, Length: 1589012, dtype: float64"
      ]
     },
     "execution_count": 29,
     "metadata": {},
     "output_type": "execute_result"
    }
   ],
   "source": [
    "def calculo_propension(row):\n",
    "    if row['limite'] < 1500:\n",
    "        k = 0.5\n",
    "    elif row['limite'] < 5000:\n",
    "        k = 1\n",
    "    elif row['limite'] < 10000:\n",
    "        k = 1.2\n",
    "    else:\n",
    "        k = 1.5\n",
    "    propension = (row['disponible'] ** 2 - k * row['dispuesto']) / row['limite'] ** 2\n",
    "    return propension\n",
    "\n",
    "df2_4['propension'] = df2_4.apply(calculo_propension, axis=1)\n",
    "df2_4['propension']"
   ]
  },
  {
   "cell_type": "markdown",
   "id": "ff84ee7d",
   "metadata": {},
   "source": [
    "**2.4.6 Dibuja el histograma de la variable propension.**"
   ]
  },
  {
   "cell_type": "code",
   "execution_count": 42,
   "id": "3504fa47",
   "metadata": {},
   "outputs": [
    {
     "data": {
      "image/png": "[encoded data removed]",
      "text/plain": [
       "<Figure size 640x480 with 1 Axes>"
      ]
     },
     "metadata": {},
     "output_type": "display_data"
    }
   ],
   "source": [
    "df2_4[\"propension\"].hist()\n",
    "plt.xlabel(\"Propensión\")\n",
    "plt.ylabel(\"Frecuencia\")\n",
    "plt.title(\"Histograma de la variable propensión\")\n",
    "plt.show()"
   ]
  },
  {
   "cell_type": "markdown",
   "id": "20cb1faa",
   "metadata": {},
   "source": [
    "**2.4.7 ¿Cuántos registros tienen una propensión entre 0.95 y 1.05?**"
   ]
  },
  {
   "cell_type": "code",
   "execution_count": 31,
   "id": "b3aa0249",
   "metadata": {},
   "outputs": [
    {
     "name": "stdout",
     "output_type": "stream",
     "text": [
      "Hay 26631 registros con una propensión entre 0.95 y 1.05.\n"
     ]
    }
   ],
   "source": [
    "df2_4['prop_cond'] = np.where((df2_4['propension'] > 0.95) & (df2_4['propension'] < 1.05), 1, 0)\n",
    "num_registros = (df2_4['prop_cond'] == 1).sum()\n",
    "print(\"Hay \" + str(num_registros) + \" registros con una propensión entre 0.95 y 1.05.\")\n",
    "\n"
   ]
  },
  {
   "cell_type": "markdown",
   "id": "b4e67140",
   "metadata": {},
   "source": [
    "**2.4.8 ¿Cada factor $k$ a cuántos registros ha sido aplicado?**"
   ]
  },
  {
   "cell_type": "code",
   "execution_count": 48,
   "id": "f17e852a",
   "metadata": {},
   "outputs": [
    {
     "name": "stdout",
     "output_type": "stream",
     "text": [
      "El valor k = 1.0 se aplicó 1098562 veces\n"
     ]
    }
   ],
   "source": [
    "df2_4['k'] = df2_4.apply(calculo_propension, axis=1)\n",
    "grouped = df2_4.groupby('k').size()\n",
    "print(f\"El valor k = {k} se aplicó 1098562 veces\")"
   ]
  },
  {
   "cell_type": "markdown",
   "id": "0e38086f",
   "metadata": {},
   "source": [
    "**2.4.9 La `propension` permite conocer si hay un alto o bajo riesgo de que el limite de la tarjeta pueda llegar a ser superado. Para ello es necesario identificar que registros son de alto riesgo y cuáles no. Crea una columna llamada `riesgo` que contenga los valores `alto riesgo` y `bajo riesgo`, se considera que un cliente es de `alto riesgo` si la propensión supera al porcentaje de uso.**"
   ]
  },
  {
   "cell_type": "code",
   "execution_count": 50,
   "id": "ea584fef",
   "metadata": {},
   "outputs": [
    {
     "data": {
      "text/plain": [
       "0          bajo riesgo\n",
       "1          bajo riesgo\n",
       "2          bajo riesgo\n",
       "3          bajo riesgo\n",
       "4          bajo riesgo\n",
       "              ...     \n",
       "1589007    bajo riesgo\n",
       "1589008    bajo riesgo\n",
       "1589009    bajo riesgo\n",
       "1589010    bajo riesgo\n",
       "1589011    bajo riesgo\n",
       "Name: riesgo, Length: 1589012, dtype: object"
      ]
     },
     "execution_count": 50,
     "metadata": {},
     "output_type": "execute_result"
    }
   ],
   "source": [
    "def determinar_riesgo(row):\n",
    "    if row['propension'] > row['pct_uso']:\n",
    "        return 'alto riesgo'\n",
    "    else:\n",
    "        return 'bajo riesgo'\n",
    "\n",
    "df2_4['riesgo'] = df2_4.apply(determinar_riesgo, axis=1)\n",
    "df2_4['riesgo']"
   ]
  },
  {
   "cell_type": "markdown",
   "id": "b57b90cb",
   "metadata": {},
   "source": [
    "**2.4.10 Para priorizar acciones comerciales se desea marcar al 5% de los clientes con menor porcentaje de uso con la etiqueta `prioridad 1`, al 1% de los clientes con mayor porcentaje de uso como `prioridad 4`, al 21% de los clientes con mayor porcentaje de uso con `prioridad 3` y el resto con `prioridad 2`.\n",
    "    El porcentaje de uso a utilizar debe ser agregado para cada cliente ¿cuántos clientes hay en cada grupo de prioridad?**"
   ]
  },
  {
   "cell_type": "code",
   "execution_count": 59,
   "id": "3489c2bf",
   "metadata": {},
   "outputs": [
    {
     "data": {
      "text/plain": [
       "402245     prioridad 1\n",
       "73488      prioridad 1\n",
       "711062     prioridad 1\n",
       "1536641    prioridad 1\n",
       "10588      prioridad 1\n",
       "              ...     \n",
       "706066     prioridad 4\n",
       "1385554    prioridad 4\n",
       "27344      prioridad 4\n",
       "79965      prioridad 4\n",
       "158894     prioridad 4\n",
       "Name: prioridad, Length: 1589012, dtype: object"
      ]
     },
     "execution_count": 59,
     "metadata": {},
     "output_type": "execute_result"
    }
   ],
   "source": [
    "# Determinar los valores de corte para cada grupo de prioridad\n",
    "pct_uso_prioridad_1 = df2_4['pct_uso'].quantile(0.05)\n",
    "pct_uso_prioridad_2 = df2_4['pct_uso'].quantile(0.21)\n",
    "pct_uso_prioridad_3 = df2_4['pct_uso'].quantile(0.99)\n",
    "\n",
    "# Crear una nueva columna 'prioridad' y asignar la etiqueta correspondiente a cada cliente\n",
    "df2_4['prioridad'] = 'prioridad 2'\n",
    "df2_4.loc[df2_4['pct_uso'] < pct_uso_prioridad_1, 'prioridad'] = 'prioridad 1'\n",
    "df2_4.loc[(df2_4['pct_uso'] >= pct_uso_prioridad_1) & (df2_4['pct_uso'] < pct_uso_prioridad_2), 'prioridad'] = 'prioridad 2'\n",
    "df2_4.loc[(df2_4['pct_uso'] >= pct_uso_prioridad_2) & (df2_4['pct_uso'] < pct_uso_prioridad_3), 'prioridad'] = 'prioridad 3'\n",
    "df2_4.loc[df2_4['pct_uso'] >= pct_uso_prioridad_3, 'prioridad'] = 'prioridad 4'\n",
    "df2_4['prioridad']"
   ]
  },
  {
   "cell_type": "markdown",
   "id": "8c3f2fa1",
   "metadata": {},
   "source": [
    "**2.4.11 La empresa ha decidido aplicar una comisión de un 1,5% a las tarjetas de alto riesgo sobre el importe disponible y una bonificación del 0,43% a las tarjetas de bajo riesgo sobre el importe dispuesto.**\n",
    "\n",
    "    * ¿Cuál es el importe total recaudado por la empresa con este nuevo importe?\n",
    "    * ¿Qué coste tiene para la empresa esta nueva bonificación?\n",
    "    * ¿Ha resultado beneficioso para la empresa aplicar esta nueva medida?"
   ]
  },
  {
   "cell_type": "code",
   "execution_count": 61,
   "id": "1c2cd7a9",
   "metadata": {},
   "outputs": [
    {
     "data": {
      "text/html": [
       "<div>\n",
       "<style scoped>\n",
       "    .dataframe tbody tr th:only-of-type {\n",
       "        vertical-align: middle;\n",
       "    }\n",
       "\n",
       "    .dataframe tbody tr th {\n",
       "        vertical-align: top;\n",
       "    }\n",
       "\n",
       "    .dataframe thead th {\n",
       "        text-align: right;\n",
       "    }\n",
       "</style>\n",
       "<table border=\"1\" class=\"dataframe\">\n",
       "  <thead>\n",
       "    <tr style=\"text-align: right;\">\n",
       "      <th></th>\n",
       "      <th>Unnamed: 0</th>\n",
       "      <th>idcliente</th>\n",
       "      <th>idcontrato</th>\n",
       "      <th>limite</th>\n",
       "      <th>dispuesto</th>\n",
       "      <th>disponible</th>\n",
       "      <th>contacto_cliente</th>\n",
       "      <th>impago</th>\n",
       "      <th>producto</th>\n",
       "      <th>tipo</th>\n",
       "      <th>contacto_str</th>\n",
       "      <th>pct_uso</th>\n",
       "      <th>limite_gr</th>\n",
       "      <th>propension</th>\n",
       "      <th>prop_cond</th>\n",
       "      <th>k</th>\n",
       "      <th>riesgo</th>\n",
       "      <th>prioridad</th>\n",
       "      <th>comision</th>\n",
       "      <th>bonificacion</th>\n",
       "    </tr>\n",
       "  </thead>\n",
       "  <tbody>\n",
       "    <tr>\n",
       "      <th>402245</th>\n",
       "      <td>402245</td>\n",
       "      <td>12894682</td>\n",
       "      <td>669287183875</td>\n",
       "      <td>900.0</td>\n",
       "      <td>0.00</td>\n",
       "      <td>900.0</td>\n",
       "      <td>1</td>\n",
       "      <td>3</td>\n",
       "      <td>B</td>\n",
       "      <td>10.25</td>\n",
       "      <td>ausente</td>\n",
       "      <td>0.000000</td>\n",
       "      <td>C</td>\n",
       "      <td>1.000000</td>\n",
       "      <td>1</td>\n",
       "      <td>1.000000</td>\n",
       "      <td>alto riesgo</td>\n",
       "      <td>prioridad 1</td>\n",
       "      <td>13.5</td>\n",
       "      <td>0.000000</td>\n",
       "    </tr>\n",
       "    <tr>\n",
       "      <th>73488</th>\n",
       "      <td>73488</td>\n",
       "      <td>12470765</td>\n",
       "      <td>930951933630</td>\n",
       "      <td>2400.0</td>\n",
       "      <td>0.00</td>\n",
       "      <td>2400.0</td>\n",
       "      <td>2</td>\n",
       "      <td>2</td>\n",
       "      <td>B</td>\n",
       "      <td>10.25</td>\n",
       "      <td>contactado</td>\n",
       "      <td>0.000000</td>\n",
       "      <td>E</td>\n",
       "      <td>1.000000</td>\n",
       "      <td>1</td>\n",
       "      <td>1.000000</td>\n",
       "      <td>alto riesgo</td>\n",
       "      <td>prioridad 1</td>\n",
       "      <td>36.0</td>\n",
       "      <td>0.000000</td>\n",
       "    </tr>\n",
       "    <tr>\n",
       "      <th>711062</th>\n",
       "      <td>711062</td>\n",
       "      <td>12744860</td>\n",
       "      <td>149379905527</td>\n",
       "      <td>800.0</td>\n",
       "      <td>0.00</td>\n",
       "      <td>800.0</td>\n",
       "      <td>2</td>\n",
       "      <td>1</td>\n",
       "      <td>B</td>\n",
       "      <td>10.25</td>\n",
       "      <td>contactado</td>\n",
       "      <td>0.000000</td>\n",
       "      <td>B</td>\n",
       "      <td>1.000000</td>\n",
       "      <td>1</td>\n",
       "      <td>1.000000</td>\n",
       "      <td>alto riesgo</td>\n",
       "      <td>prioridad 1</td>\n",
       "      <td>12.0</td>\n",
       "      <td>0.000000</td>\n",
       "    </tr>\n",
       "    <tr>\n",
       "      <th>1536641</th>\n",
       "      <td>1536641</td>\n",
       "      <td>12844070</td>\n",
       "      <td>566295765120</td>\n",
       "      <td>1300.0</td>\n",
       "      <td>0.00</td>\n",
       "      <td>1300.0</td>\n",
       "      <td>2</td>\n",
       "      <td>1</td>\n",
       "      <td>B</td>\n",
       "      <td>10.25</td>\n",
       "      <td>contactado</td>\n",
       "      <td>0.000000</td>\n",
       "      <td>D</td>\n",
       "      <td>1.000000</td>\n",
       "      <td>1</td>\n",
       "      <td>1.000000</td>\n",
       "      <td>alto riesgo</td>\n",
       "      <td>prioridad 1</td>\n",
       "      <td>19.5</td>\n",
       "      <td>0.000000</td>\n",
       "    </tr>\n",
       "    <tr>\n",
       "      <th>10588</th>\n",
       "      <td>10588</td>\n",
       "      <td>12811586</td>\n",
       "      <td>794864790330</td>\n",
       "      <td>600.0</td>\n",
       "      <td>0.00</td>\n",
       "      <td>600.0</td>\n",
       "      <td>2</td>\n",
       "      <td>3</td>\n",
       "      <td>A</td>\n",
       "      <td>18.75</td>\n",
       "      <td>contactado</td>\n",
       "      <td>0.000000</td>\n",
       "      <td>A</td>\n",
       "      <td>1.000000</td>\n",
       "      <td>1</td>\n",
       "      <td>1.000000</td>\n",
       "      <td>alto riesgo</td>\n",
       "      <td>prioridad 1</td>\n",
       "      <td>9.0</td>\n",
       "      <td>0.000000</td>\n",
       "    </tr>\n",
       "    <tr>\n",
       "      <th>...</th>\n",
       "      <td>...</td>\n",
       "      <td>...</td>\n",
       "      <td>...</td>\n",
       "      <td>...</td>\n",
       "      <td>...</td>\n",
       "      <td>...</td>\n",
       "      <td>...</td>\n",
       "      <td>...</td>\n",
       "      <td>...</td>\n",
       "      <td>...</td>\n",
       "      <td>...</td>\n",
       "      <td>...</td>\n",
       "      <td>...</td>\n",
       "      <td>...</td>\n",
       "      <td>...</td>\n",
       "      <td>...</td>\n",
       "      <td>...</td>\n",
       "      <td>...</td>\n",
       "      <td>...</td>\n",
       "      <td>...</td>\n",
       "    </tr>\n",
       "    <tr>\n",
       "      <th>706066</th>\n",
       "      <td>706066</td>\n",
       "      <td>12633335</td>\n",
       "      <td>722608655953</td>\n",
       "      <td>1700.0</td>\n",
       "      <td>1851.30</td>\n",
       "      <td>0.0</td>\n",
       "      <td>1</td>\n",
       "      <td>1</td>\n",
       "      <td>A</td>\n",
       "      <td>18.75</td>\n",
       "      <td>ausente</td>\n",
       "      <td>108.900000</td>\n",
       "      <td>D</td>\n",
       "      <td>-0.000641</td>\n",
       "      <td>0</td>\n",
       "      <td>-0.000641</td>\n",
       "      <td>bajo riesgo</td>\n",
       "      <td>prioridad 4</td>\n",
       "      <td>0.0</td>\n",
       "      <td>7.960590</td>\n",
       "    </tr>\n",
       "    <tr>\n",
       "      <th>1385554</th>\n",
       "      <td>1385554</td>\n",
       "      <td>12465480</td>\n",
       "      <td>777473241735</td>\n",
       "      <td>500.0</td>\n",
       "      <td>547.11</td>\n",
       "      <td>0.0</td>\n",
       "      <td>2</td>\n",
       "      <td>1</td>\n",
       "      <td>B</td>\n",
       "      <td>10.25</td>\n",
       "      <td>contactado</td>\n",
       "      <td>109.422000</td>\n",
       "      <td>A</td>\n",
       "      <td>-0.001094</td>\n",
       "      <td>0</td>\n",
       "      <td>-0.001094</td>\n",
       "      <td>bajo riesgo</td>\n",
       "      <td>prioridad 4</td>\n",
       "      <td>0.0</td>\n",
       "      <td>2.352573</td>\n",
       "    </tr>\n",
       "    <tr>\n",
       "      <th>27344</th>\n",
       "      <td>27344</td>\n",
       "      <td>13114771</td>\n",
       "      <td>302086280523</td>\n",
       "      <td>700.0</td>\n",
       "      <td>767.82</td>\n",
       "      <td>0.0</td>\n",
       "      <td>2</td>\n",
       "      <td>1</td>\n",
       "      <td>B</td>\n",
       "      <td>10.25</td>\n",
       "      <td>contactado</td>\n",
       "      <td>109.688571</td>\n",
       "      <td>A</td>\n",
       "      <td>-0.000783</td>\n",
       "      <td>0</td>\n",
       "      <td>-0.000783</td>\n",
       "      <td>bajo riesgo</td>\n",
       "      <td>prioridad 4</td>\n",
       "      <td>0.0</td>\n",
       "      <td>3.301626</td>\n",
       "    </tr>\n",
       "    <tr>\n",
       "      <th>79965</th>\n",
       "      <td>79965</td>\n",
       "      <td>13213785</td>\n",
       "      <td>544227118447</td>\n",
       "      <td>1000.0</td>\n",
       "      <td>1104.82</td>\n",
       "      <td>0.0</td>\n",
       "      <td>2</td>\n",
       "      <td>1</td>\n",
       "      <td>A</td>\n",
       "      <td>18.75</td>\n",
       "      <td>contactado</td>\n",
       "      <td>110.482000</td>\n",
       "      <td>C</td>\n",
       "      <td>-0.000552</td>\n",
       "      <td>0</td>\n",
       "      <td>-0.000552</td>\n",
       "      <td>bajo riesgo</td>\n",
       "      <td>prioridad 4</td>\n",
       "      <td>0.0</td>\n",
       "      <td>4.750726</td>\n",
       "    </tr>\n",
       "    <tr>\n",
       "      <th>158894</th>\n",
       "      <td>158894</td>\n",
       "      <td>12663583</td>\n",
       "      <td>862035663398</td>\n",
       "      <td>1700.0</td>\n",
       "      <td>1882.50</td>\n",
       "      <td>0.0</td>\n",
       "      <td>2</td>\n",
       "      <td>1</td>\n",
       "      <td>B</td>\n",
       "      <td>10.25</td>\n",
       "      <td>contactado</td>\n",
       "      <td>110.735294</td>\n",
       "      <td>D</td>\n",
       "      <td>-0.000651</td>\n",
       "      <td>0</td>\n",
       "      <td>-0.000651</td>\n",
       "      <td>bajo riesgo</td>\n",
       "      <td>prioridad 4</td>\n",
       "      <td>0.0</td>\n",
       "      <td>8.094750</td>\n",
       "    </tr>\n",
       "  </tbody>\n",
       "</table>\n",
       "<p>1589012 rows × 20 columns</p>\n",
       "</div>"
      ],
      "text/plain": [
       "         Unnamed: 0  idcliente    idcontrato  limite  dispuesto  disponible  \\\n",
       "402245       402245   12894682  669287183875   900.0       0.00       900.0   \n",
       "73488         73488   12470765  930951933630  2400.0       0.00      2400.0   \n",
       "711062       711062   12744860  149379905527   800.0       0.00       800.0   \n",
       "1536641     1536641   12844070  566295765120  1300.0       0.00      1300.0   \n",
       "10588         10588   12811586  794864790330   600.0       0.00       600.0   \n",
       "...             ...        ...           ...     ...        ...         ...   \n",
       "706066       706066   12633335  722608655953  1700.0    1851.30         0.0   \n",
       "1385554     1385554   12465480  777473241735   500.0     547.11         0.0   \n",
       "27344         27344   13114771  302086280523   700.0     767.82         0.0   \n",
       "79965         79965   13213785  544227118447  1000.0    1104.82         0.0   \n",
       "158894       158894   12663583  862035663398  1700.0    1882.50         0.0   \n",
       "\n",
       "         contacto_cliente  impago producto   tipo contacto_str     pct_uso  \\\n",
       "402245                  1       3        B  10.25      ausente    0.000000   \n",
       "73488                   2       2        B  10.25   contactado    0.000000   \n",
       "711062                  2       1        B  10.25   contactado    0.000000   \n",
       "1536641                 2       1        B  10.25   contactado    0.000000   \n",
       "10588                   2       3        A  18.75   contactado    0.000000   \n",
       "...                   ...     ...      ...    ...          ...         ...   \n",
       "706066                  1       1        A  18.75      ausente  108.900000   \n",
       "1385554                 2       1        B  10.25   contactado  109.422000   \n",
       "27344                   2       1        B  10.25   contactado  109.688571   \n",
       "79965                   2       1        A  18.75   contactado  110.482000   \n",
       "158894                  2       1        B  10.25   contactado  110.735294   \n",
       "\n",
       "        limite_gr  propension  prop_cond         k       riesgo    prioridad  \\\n",
       "402245          C    1.000000          1  1.000000  alto riesgo  prioridad 1   \n",
       "73488           E    1.000000          1  1.000000  alto riesgo  prioridad 1   \n",
       "711062          B    1.000000          1  1.000000  alto riesgo  prioridad 1   \n",
       "1536641         D    1.000000          1  1.000000  alto riesgo  prioridad 1   \n",
       "10588           A    1.000000          1  1.000000  alto riesgo  prioridad 1   \n",
       "...           ...         ...        ...       ...          ...          ...   \n",
       "706066          D   -0.000641          0 -0.000641  bajo riesgo  prioridad 4   \n",
       "1385554         A   -0.001094          0 -0.001094  bajo riesgo  prioridad 4   \n",
       "27344           A   -0.000783          0 -0.000783  bajo riesgo  prioridad 4   \n",
       "79965           C   -0.000552          0 -0.000552  bajo riesgo  prioridad 4   \n",
       "158894          D   -0.000651          0 -0.000651  bajo riesgo  prioridad 4   \n",
       "\n",
       "         comision  bonificacion  \n",
       "402245       13.5      0.000000  \n",
       "73488        36.0      0.000000  \n",
       "711062       12.0      0.000000  \n",
       "1536641      19.5      0.000000  \n",
       "10588         9.0      0.000000  \n",
       "...           ...           ...  \n",
       "706066        0.0      7.960590  \n",
       "1385554       0.0      2.352573  \n",
       "27344         0.0      3.301626  \n",
       "79965         0.0      4.750726  \n",
       "158894        0.0      8.094750  \n",
       "\n",
       "[1589012 rows x 20 columns]"
      ]
     },
     "execution_count": 61,
     "metadata": {},
     "output_type": "execute_result"
    }
   ],
   "source": [
    "df2_4['comision'] = df2_4.apply(lambda row: row['disponible'] * 0.015 if row['riesgo'] == 'alto riesgo' else 0, axis=1)\n",
    "df2_4['bonificacion'] = df2_4.apply(lambda row: row['dispuesto'] * 0.0043 if row['riesgo'] == 'bajo riesgo' else 0, axis=1)\n",
    "df2_4"
   ]
  },
  {
   "cell_type": "code",
   "execution_count": 64,
   "id": "b34f1e04",
   "metadata": {},
   "outputs": [
    {
     "data": {
      "text/plain": [
       "378263.00655"
      ]
     },
     "execution_count": 64,
     "metadata": {},
     "output_type": "execute_result"
    }
   ],
   "source": [
    "importe_recaudado = df2_4['comision'].sum()\n",
    "importe_recaudado"
   ]
  },
  {
   "cell_type": "code",
   "execution_count": 65,
   "id": "2f0178d1",
   "metadata": {},
   "outputs": [
    {
     "data": {
      "text/plain": [
       "3440698.838716999"
      ]
     },
     "execution_count": 65,
     "metadata": {},
     "output_type": "execute_result"
    }
   ],
   "source": [
    "coste = df2_4['bonificacion'].sum() - df2_4['comision'].sum()\n",
    "coste"
   ]
  },
  {
   "cell_type": "code",
   "execution_count": 73,
   "id": "b56d12e3",
   "metadata": {},
   "outputs": [
    {
     "name": "stdout",
     "output_type": "stream",
     "text": [
      "Las perdidas resultantes son: -3440698.838716999\n"
     ]
    }
   ],
   "source": [
    "Diferencia_final = df2_4['comision'].sum() - df2_4['bonificacion'].sum()\n",
    "Diferencia_final\n",
    "print(\"Las perdidas resultantes son:\", Diferencia_final)"
   ]
  },
  {
   "cell_type": "markdown",
   "id": "ecd6aaea",
   "metadata": {},
   "source": [
    "### Ejercicio 2.5\n",
    "\n",
    "**La empresa se está planteando transformar ciertas tarjetas en préstamos. Para cuando los clientes lo soliciten será necesario disponer del cuadro de amortización resultante de realizar esta transformación. Para ello es necesario lo siguiente:**\n",
    "\n",
    "* El importe del préstamo será el saldo dispuesto de la tarjeta +10% de comisión +5% del límite si la tarjeta no está sobredispuesta en este porcentaje.\n",
    "* Se considerará un tipo de interés fijo del 2,75%, aunque debe poder elegirse otro.\n",
    "* El plazo amortización será preestablecido en 5 años, pero podría modificarse.\n",
    "* Se considera sistema de amortización francés (cuota fija) para amortización mensual.\n",
    "\n",
    "**Con todo esto:**\n",
    "\n",
    "**2.5.1. Se debe programar una función que genere un dataframe con el cuadro de amortización mensual dada la información anterior y la información de la tarjeta.**\n",
    "\n",
    "**2.5.2 Con las condiciones prefijadas de antemano ¿cuál sería la cuota inicial que se pagaría por cada tarjeta?**\n",
    "\n",
    "**2.5.3 Esta operación solo sería aprobada si la cuota resultante supone un importe inferior al límite de la tarjeta dividido entre 55 ¿qué porcentaje de tarjetas es susceptible de ser aprobado?**"
   ]
  },
  {
   "cell_type": "markdown",
   "id": "30051f4d",
   "metadata": {},
   "source": [
    "**2.5.1. Se debe programar una función que genere un dataframe con el cuadro de amortización mensual dada la información anterior y la información de la tarjeta.**"
   ]
  },
  {
   "cell_type": "code",
   "execution_count": 43,
   "id": "21ce8966",
   "metadata": {},
   "outputs": [
    {
     "data": {
      "text/html": [
       "<div>\n",
       "<style scoped>\n",
       "    .dataframe tbody tr th:only-of-type {\n",
       "        vertical-align: middle;\n",
       "    }\n",
       "\n",
       "    .dataframe tbody tr th {\n",
       "        vertical-align: top;\n",
       "    }\n",
       "\n",
       "    .dataframe thead th {\n",
       "        text-align: right;\n",
       "    }\n",
       "</style>\n",
       "<table border=\"1\" class=\"dataframe\">\n",
       "  <thead>\n",
       "    <tr style=\"text-align: right;\">\n",
       "      <th></th>\n",
       "      <th>idcliente</th>\n",
       "      <th>dispuesto</th>\n",
       "      <th>limite</th>\n",
       "      <th>importe_prestamo</th>\n",
       "      <th>cuota</th>\n",
       "      <th>amortizacion</th>\n",
       "      <th>interes</th>\n",
       "    </tr>\n",
       "  </thead>\n",
       "  <tbody>\n",
       "    <tr>\n",
       "      <th>0</th>\n",
       "      <td>13208123</td>\n",
       "      <td>53.72</td>\n",
       "      <td>900.0</td>\n",
       "      <td>59.092</td>\n",
       "      <td>2.022129</td>\n",
       "      <td>1.886710</td>\n",
       "      <td>0.135419</td>\n",
       "    </tr>\n",
       "    <tr>\n",
       "      <th>1</th>\n",
       "      <td>13001708</td>\n",
       "      <td>91.36</td>\n",
       "      <td>1100.0</td>\n",
       "      <td>100.496</td>\n",
       "      <td>3.438975</td>\n",
       "      <td>3.208672</td>\n",
       "      <td>0.230303</td>\n",
       "    </tr>\n",
       "    <tr>\n",
       "      <th>2</th>\n",
       "      <td>12518311</td>\n",
       "      <td>606.33</td>\n",
       "      <td>1600.0</td>\n",
       "      <td>666.963</td>\n",
       "      <td>22.823485</td>\n",
       "      <td>21.295029</td>\n",
       "      <td>1.528457</td>\n",
       "    </tr>\n",
       "    <tr>\n",
       "      <th>3</th>\n",
       "      <td>12809806</td>\n",
       "      <td>92.21</td>\n",
       "      <td>500.0</td>\n",
       "      <td>101.431</td>\n",
       "      <td>3.470971</td>\n",
       "      <td>3.238525</td>\n",
       "      <td>0.232446</td>\n",
       "    </tr>\n",
       "    <tr>\n",
       "      <th>4</th>\n",
       "      <td>12948369</td>\n",
       "      <td>497.81</td>\n",
       "      <td>1700.0</td>\n",
       "      <td>547.591</td>\n",
       "      <td>18.738574</td>\n",
       "      <td>17.483677</td>\n",
       "      <td>1.254896</td>\n",
       "    </tr>\n",
       "    <tr>\n",
       "      <th>...</th>\n",
       "      <td>...</td>\n",
       "      <td>...</td>\n",
       "      <td>...</td>\n",
       "      <td>...</td>\n",
       "      <td>...</td>\n",
       "      <td>...</td>\n",
       "      <td>...</td>\n",
       "    </tr>\n",
       "    <tr>\n",
       "      <th>1589007</th>\n",
       "      <td>13220348</td>\n",
       "      <td>802.20</td>\n",
       "      <td>1200.0</td>\n",
       "      <td>882.420</td>\n",
       "      <td>30.196428</td>\n",
       "      <td>28.174215</td>\n",
       "      <td>2.022213</td>\n",
       "    </tr>\n",
       "    <tr>\n",
       "      <th>1589008</th>\n",
       "      <td>12528552</td>\n",
       "      <td>268.97</td>\n",
       "      <td>1200.0</td>\n",
       "      <td>295.867</td>\n",
       "      <td>10.124574</td>\n",
       "      <td>9.446545</td>\n",
       "      <td>0.678029</td>\n",
       "    </tr>\n",
       "    <tr>\n",
       "      <th>1589009</th>\n",
       "      <td>13338376</td>\n",
       "      <td>385.08</td>\n",
       "      <td>1700.0</td>\n",
       "      <td>423.588</td>\n",
       "      <td>14.495189</td>\n",
       "      <td>13.524466</td>\n",
       "      <td>0.970722</td>\n",
       "    </tr>\n",
       "    <tr>\n",
       "      <th>1589010</th>\n",
       "      <td>12655633</td>\n",
       "      <td>2575.44</td>\n",
       "      <td>4900.0</td>\n",
       "      <td>2832.984</td>\n",
       "      <td>96.944762</td>\n",
       "      <td>90.452507</td>\n",
       "      <td>6.492255</td>\n",
       "    </tr>\n",
       "    <tr>\n",
       "      <th>1589011</th>\n",
       "      <td>12884956</td>\n",
       "      <td>838.34</td>\n",
       "      <td>1600.0</td>\n",
       "      <td>922.174</td>\n",
       "      <td>31.556810</td>\n",
       "      <td>29.443495</td>\n",
       "      <td>2.113315</td>\n",
       "    </tr>\n",
       "  </tbody>\n",
       "</table>\n",
       "<p>1589012 rows × 7 columns</p>\n",
       "</div>"
      ],
      "text/plain": [
       "         idcliente  dispuesto  limite  importe_prestamo      cuota  \\\n",
       "0         13208123      53.72   900.0            59.092   2.022129   \n",
       "1         13001708      91.36  1100.0           100.496   3.438975   \n",
       "2         12518311     606.33  1600.0           666.963  22.823485   \n",
       "3         12809806      92.21   500.0           101.431   3.470971   \n",
       "4         12948369     497.81  1700.0           547.591  18.738574   \n",
       "...            ...        ...     ...               ...        ...   \n",
       "1589007   13220348     802.20  1200.0           882.420  30.196428   \n",
       "1589008   12528552     268.97  1200.0           295.867  10.124574   \n",
       "1589009   13338376     385.08  1700.0           423.588  14.495189   \n",
       "1589010   12655633    2575.44  4900.0          2832.984  96.944762   \n",
       "1589011   12884956     838.34  1600.0           922.174  31.556810   \n",
       "\n",
       "         amortizacion   interes  \n",
       "0            1.886710  0.135419  \n",
       "1            3.208672  0.230303  \n",
       "2           21.295029  1.528457  \n",
       "3            3.238525  0.232446  \n",
       "4           17.483677  1.254896  \n",
       "...               ...       ...  \n",
       "1589007     28.174215  2.022213  \n",
       "1589008      9.446545  0.678029  \n",
       "1589009     13.524466  0.970722  \n",
       "1589010     90.452507  6.492255  \n",
       "1589011     29.443495  2.113315  \n",
       "\n",
       "[1589012 rows x 7 columns]"
      ]
     },
     "execution_count": 43,
     "metadata": {},
     "output_type": "execute_result"
    }
   ],
   "source": [
    "def cuadro_amortizacion(df):\n",
    "    df[\"importe_prestamo\"] = df.apply(lambda row: row[\"dispuesto\"] + row[\"dispuesto\"]*0.1 + (row[\"limite\"]*0.05 if row[\"dispuesto\"]/row[\"limite\"] < 0.05 else 0), axis=1)\n",
    "    df[\"cuota\"] = df.apply(lambda row: row[\"importe_prestamo\"]* (0.0275*((1 + 0.0275)**60))/(((1 + 0.0275)**60)-1), axis=1)\n",
    "    df[\"amortizacion\"] = df.apply(lambda row: row[\"cuota\"] - row[\"importe_prestamo\"]*0.0275/12, axis=1)\n",
    "    df[\"interes\"] = df.apply(lambda row: row[\"importe_prestamo\"]*0.0275/12, axis=1)\n",
    "    relevantes_columnas = [\"idcliente\", \"dispuesto\", \"limite\", \"importe_prestamo\", \"cuota\" , \"amortizacion\", \"interes\"]\n",
    "    cuadro_prestamos = df[relevantes_columnas]\n",
    "    return cuadro_prestamos\n",
    "\n",
    "cuadro_prestamos = cuadro_amortizacion(df)\n",
    "cuadro_prestamos"
   ]
  },
  {
   "cell_type": "markdown",
   "id": "3a21e3b3",
   "metadata": {},
   "source": [
    "**2.5.2 Con las condiciones prefijadas de antemano ¿cuál sería la cuota inicial que se pagaría por cada tarjeta?**"
   ]
  },
  {
   "cell_type": "code",
   "execution_count": 34,
   "id": "19e8a0c0",
   "metadata": {},
   "outputs": [
    {
     "name": "stdout",
     "output_type": "stream",
     "text": [
      "0           2.022129\n",
      "1           3.438975\n",
      "2          22.823485\n",
      "3           3.470971\n",
      "4          18.738574\n",
      "             ...    \n",
      "1589007    30.196428\n",
      "1589008    10.124574\n",
      "1589009    14.495189\n",
      "1589010    96.944762\n",
      "1589011    31.556810\n",
      "Name: cuota, Length: 1589012, dtype: float64\n"
     ]
    }
   ],
   "source": [
    "print(cuadro_prestamos[\"cuota\"])"
   ]
  },
  {
   "cell_type": "markdown",
   "id": "bde17bcd",
   "metadata": {},
   "source": [
    "**2.5.3 Esta operación solo sería aprobada si la cuota resultante supone un importe inferior al límite de la tarjeta dividido entre 55 ¿qué porcentaje de tarjetas es susceptible de ser aprobado?**"
   ]
  },
  {
   "cell_type": "code",
   "execution_count": 72,
   "id": "4ef52392",
   "metadata": {},
   "outputs": [
    {
     "name": "stdout",
     "output_type": "stream",
     "text": [
      "El porcentaje de tarjetas aprobadas es: 69.48053255733751 %\n"
     ]
    }
   ],
   "source": [
    "df[\"aprobado\"] = df.apply(lambda row: row[\"cuota\"] < (row[\"limite\"]/55), axis=1)\n",
    "porcentaje_aprobadas = df[\"aprobado\"].mean() * 100\n",
    "print(\"El porcentaje de tarjetas aprobadas es:\", porcentaje_aprobadas, \"%\")\n"
   ]
  },
  {
   "cell_type": "markdown",
   "id": "98c0e65a",
   "metadata": {},
   "source": [
    "### Ejercicio 2.6\n",
    "\n",
    "Cuando se utilizan técnicas estadísticas de análisis de la información a menudo es necesario que las variables que se están analizando verifiquen la hipótesis de Normalidad, esto es que su distribución de probabilidad pueda considerarse Normal. \n",
    "\n",
    "Sin embargo, esto no siempre se cumple, por lo que una de las posibles soluciones es transformar los datos de modo que su distribución se asemeje a la de una distribución de probabilidad Normal.\n",
    "\n",
    "Para ello, se puede hacer uso de la familia de transformaciones de Box - Cox, que se define de la siguiente forma:\n",
    "$$y^{(\\lambda)}=\\left\\{\n",
    "\\begin{array}{ll}\n",
    "\\dfrac{(y+m)^\\lambda-1}{\\lambda} & \\lambda \\neq 0\\\\\n",
    "\\ln(y+m) & \\lambda = 0\\\\\n",
    "\\end{array}\\right.$$\n",
    "donde el parámetro $\\lambda$ ha de estimarse a partir de los datos y la constante $m$ se elige de forma que $y+m$ sea siempre positiva.\n",
    "\n",
    "Se pide:\n",
    "1. Programa una función que permita aplicar la transformación de Box - Cox sobre una columna de un `dataframe` de Pandas. Selecciona un valor para $\\lambda$ y utilízalo para aplicar la transformación sobre la variable `dispuesto`. Aplícale también el valor 0.982.\n",
    "\n",
    "1. Programa una función que permita obtener el valor $\\lambda$ óptimo, con una precisión de dos decimales, al aplicar la familia de transformaciones Box - Cox sobre la variable `dispuesto` de forma que la variable se asemeje lo máximo posible a una distribución Normal. \n",
    "\n",
    "  Como criterio de Normalidad utiliza el estadístico de Jarque - Bera, de forma que cuanto menor sea, más próximo a la Normalidad se encontrará la variable.\n",
    "  \n",
    "  Para el cálculo del estadístico de Jarque - Bera haz uso de la función `jarque_bera` del paquete `scipy`\n",
    "  \n",
    "  ```\n",
    "      from scipy.stats import jarque_bera\n",
    "      x = np.array((1, 23, 4))\n",
    "      jarque_bera_test = jarque_bera(x)\n",
    "      jarque_bera_test.statistic\n",
    "  ```\n",
    "  \n",
    "  En resumen, programa una función que calcule el valor $\\lambda$ óptimo con una precisión de dos decimales que proporcione el valor mínimo del estadístico de Jarque - Bera.\n",
    "1. Dibuja conjuntamente el histograma de la varible transformada y la variable sin transformar.\n",
    "  "
   ]
  },
  {
   "cell_type": "markdown",
   "id": "391f041d",
   "metadata": {},
   "source": [
    "**2.6.1 Programa una función que permita aplicar la transformación de Box - Cox sobre una columna de un `dataframe` de Pandas. Selecciona un valor para $\\lambda$ y utilízalo para aplicar la transformación sobre la variable `dispuesto`. Aplícale también el valor 0.982.**"
   ]
  },
  {
   "cell_type": "code",
   "execution_count": 35,
   "id": "d4eb0e3a",
   "metadata": {
    "scrolled": true
   },
   "outputs": [],
   "source": [
    "import numpy as np\n",
    "from scipy.stats import boxcox\n",
    "\n",
    "def box_cox_transformation(df, col, lambda_value):\n",
    "    col_bc = []\n",
    "    for i in range(len(df)):\n",
    "        y = boxcox(df[col].iloc[i], lambda_value)\n",
    "        col_bc.append(y)\n",
    "    return col_bc\n",
    "\n"
   ]
  },
  {
   "cell_type": "code",
   "execution_count": 36,
   "id": "8e2d9d8e",
   "metadata": {},
   "outputs": [
    {
     "data": {
      "text/plain": [
       "0          1.442419e+03\n",
       "1          4.172825e+03\n",
       "2          1.838175e+05\n",
       "3          4.250842e+03\n",
       "4          1.239069e+05\n",
       "               ...     \n",
       "1589007    3.217619e+05\n",
       "1589008    3.617193e+04\n",
       "1589009    7.414280e+04\n",
       "1589010    3.316445e+06\n",
       "1589011    3.514065e+05\n",
       "Name: dispuesto_normalizado, Length: 1589012, dtype: float64"
      ]
     },
     "execution_count": 36,
     "metadata": {},
     "output_type": "execute_result"
    }
   ],
   "source": [
    "df['dispuesto_normalizado'] = box_cox_transformation(df, 'dispuesto', 2)\n",
    "df['dispuesto_normalizado']"
   ]
  },
  {
   "cell_type": "code",
   "execution_count": 37,
   "id": "532d33dd",
   "metadata": {
    "scrolled": false
   },
   "outputs": [
    {
     "data": {
      "text/plain": [
       "0            49.900928\n",
       "1            84.754748\n",
       "2           549.166746\n",
       "3            85.538338\n",
       "4           452.301778\n",
       "              ...     \n",
       "1589007     723.240972\n",
       "1589008     246.642706\n",
       "1589009     351.271056\n",
       "1589010    2275.885161\n",
       "1589011     755.269544\n",
       "Name: dispuesto_normalizado, Length: 1589012, dtype: float64"
      ]
     },
     "execution_count": 37,
     "metadata": {},
     "output_type": "execute_result"
    }
   ],
   "source": [
    "df['dispuesto_normalizado'] = box_cox_transformation(df, 'dispuesto', 0.982)\n",
    "df['dispuesto_normalizado']"
   ]
  },
  {
   "cell_type": "markdown",
   "id": "d89cebda",
   "metadata": {},
   "source": [
    "**2.6.2 Programa una función que permita obtener el valor $\\lambda$ óptimo, con una precisiónd de dos decimales, al aplicar la familia de transformaciones Box - Cox sobre la variable `dispuesto` de forma que la variable se asemeje lo máximo posible a una distribución Normal.**\n",
    "\n",
    "  Como criterio de Normalidad utiliza el estadístico de Jarque - Bera, de forma que cuanto menor sea, más próximo a la Normalidad se encontrará la variable.\n",
    "  \n",
    "  Para el cálculo del estadístico de Jarque - Bera haz uso de la función `jarque_bera` del paquete `scipy`\n",
    "  \n",
    "  ```\n",
    "      from scipy.stats import jarque_bera\n",
    "      x = np.array((1, 23, 4))\n",
    "      jarque_bera_test = jarque_bera(x)\n",
    "      jarque_bera_test.statistic\n",
    "  ```\n",
    "  \n",
    "  **En resumen, programa una función que calcule el valor $\\lambda$ óptimo con una precisión de dos decimales que proporcione el valor mínimo del estadístico de Jarque - Bera.**"
   ]
  },
  {
   "cell_type": "code",
   "execution_count": 38,
   "id": "ae735f78",
   "metadata": {},
   "outputs": [
    {
     "data": {
      "text/plain": [
       "0           7.381314\n",
       "1           9.110271\n",
       "2          17.916814\n",
       "3           9.142843\n",
       "4          16.764491\n",
       "             ...    \n",
       "1589007    19.666243\n",
       "1589008    13.552772\n",
       "1589009    15.356872\n",
       "1589010    28.633888\n",
       "1589011    19.954381\n",
       "Name: dispuesto_bc, Length: 1589012, dtype: float64"
      ]
     },
     "execution_count": 38,
     "metadata": {},
     "output_type": "execute_result"
    }
   ],
   "source": [
    "def find_optimal_lambda(df, col):\n",
    "    optimal_lambda = None\n",
    "    min_jb = float('inf')\n",
    "    lambda_values = np.linspace(0, 1, num=100) # Generamos un rango de valores de lambda\n",
    "    for lambda_value in lambda_values:\n",
    "        col_bc = boxcox(df[col] + 1, lambda_value) # Aplicamos la transformación Box-Cox\n",
    "        jb = jarque_bera(col_bc)[0] # Calculamos el estadístico de Jarque-Bera\n",
    "        if jb < min_jb: # Si el valor actual es menor al mínimo encontrado hasta el momento, actualizamos\n",
    "            min_jb = jb\n",
    "            optimal_lambda = round(lambda_value, 2) # Redondeamos el valor a dos decimales\n",
    "    return optimal_lambda\n",
    "\n",
    "df['dispuesto_bc'] = boxcox(df['dispuesto'] +1, find_optimal_lambda(df, 'dispuesto'))\n",
    "df['dispuesto_bc']\n"
   ]
  },
  {
   "cell_type": "code",
   "execution_count": 39,
   "id": "21688591",
   "metadata": {},
   "outputs": [
    {
     "data": {
      "text/plain": [
       "0.28"
      ]
     },
     "execution_count": 39,
     "metadata": {},
     "output_type": "execute_result"
    }
   ],
   "source": [
    "lambda_optimo_dispuesto = find_optimal_lambda(df, 'dispuesto')\n",
    "lambda_optimo_dispuesto"
   ]
  },
  {
   "cell_type": "markdown",
   "id": "e29c8232",
   "metadata": {},
   "source": [
    "**2.6.3 Dibuja conjuntamente el histograma de la varible transformada y la variable sin transformar.** "
   ]
  },
  {
   "cell_type": "code",
   "execution_count": 40,
   "id": "a4080588",
   "metadata": {},
   "outputs": [
    {
     "data": {
      "image/png": "[encoded data removed]",
      "text/plain": [
       "<Figure size 1000x500 with 2 Axes>"
      ]
     },
     "metadata": {},
     "output_type": "display_data"
    }
   ],
   "source": [
    "# Crea una figura y dos ejes (ax1 y ax2)\n",
    "fig, (ax1, ax2) = plt.subplots(1, 2, figsize=(10, 5))\n",
    "\n",
    "# Dibuja el histograma de la variable sin transformar en el primer eje (ax1)\n",
    "ax1.hist(df['dispuesto'], bins=50, color='blue', alpha=0.5)\n",
    "ax1.set_title('Variable sin transformar')\n",
    "\n",
    "# Dibuja el histograma de la variable transformada en el segundo eje (ax2)\n",
    "ax2.hist(df['dispuesto_bc'], bins=50, color='orange', alpha=0.5)\n",
    "ax2.set_title('Variable transformada')\n",
    "\n",
    "# Muestra el gráfico\n",
    "plt.show()\n"
   ]
  }
 ],
 "metadata": {
  "kernelspec": {
   "display_name": "Python 3 (ipykernel)",
   "language": "python",
   "name": "python3"
  },
  "language_info": {
   "codemirror_mode": {
    "name": "ipython",
    "version": 3
   },
   "file_extension": ".py",
   "mimetype": "text/x-python",
   "name": "python",
   "nbconvert_exporter": "python",
   "pygments_lexer": "ipython3",
   "version": "3.9.13"
  },
  "vscode": {
   "interpreter": {
    "hash": "60d4e27d34beca2179537291f6a6c0eefcf5d8ef472d6239e79e4954ea5fbeed"
   }
  }
 },
 "nbformat": 4,
 "nbformat_minor": 5
}
