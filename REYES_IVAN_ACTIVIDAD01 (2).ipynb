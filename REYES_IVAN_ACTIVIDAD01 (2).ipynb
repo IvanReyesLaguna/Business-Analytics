{
 "cells": [
  {
   "attachments": {
    "ue.png": {
     "image/png": "[encoded data removed]"
    }
   },
   "cell_type": "markdown",
   "id": "4ac1f817",
   "metadata": {},
   "source": [
    "![ue.png](attachment:ue.png)"
   ]
  },
  {
   "cell_type": "markdown",
   "id": "2c502511",
   "metadata": {},
   "source": [
    "\n",
    "# MÓDULO III: FUNDAMENTOS TECNOLÓGICOS EN DATA SCIENCE\n",
    "##  Actividad 1: Python"
   ]
  },
  {
   "cell_type": "markdown",
   "id": "6e3b367a",
   "metadata": {},
   "source": [
    "\n",
    "#### Autor : Iván Reyes Laguna                             \n",
    "#### Nº expediente: 222C2974\n",
    "#### Fecha de entrega: 12/01/2023\n"
   ]
  },
  {
   "cell_type": "markdown",
   "id": "523c470e",
   "metadata": {},
   "source": [
    "**1.1.1 Crea un objeto llamado `x` que contenga el valor entero `2` e imprímelo.**"
   ]
  },
  {
   "cell_type": "code",
   "execution_count": 68,
   "id": "a67684c8",
   "metadata": {
    "scrolled": true
   },
   "outputs": [
    {
     "name": "stdout",
     "output_type": "stream",
     "text": [
      "2\n"
     ]
    }
   ],
   "source": [
    "x = 2\n",
    "print(x)"
   ]
  },
  {
   "cell_type": "markdown",
   "id": "967936c4",
   "metadata": {},
   "source": [
    "---\n",
    "* 'La función print() muestra por pantalla lo introducido entre sus ().'\n",
    "---"
   ]
  },
  {
   "cell_type": "markdown",
   "id": "1d8937e3",
   "metadata": {},
   "source": [
    "**1.1.2 Crea un objeto llamado `y` que contenta el valor real (coma flotante) `3` e imprímelo.**"
   ]
  },
  {
   "cell_type": "code",
   "execution_count": 69,
   "id": "160ba455",
   "metadata": {},
   "outputs": [
    {
     "name": "stdout",
     "output_type": "stream",
     "text": [
      "3.0\n"
     ]
    }
   ],
   "source": [
    "y = 3.0\n",
    "print(y)\n"
   ]
  },
  {
   "cell_type": "markdown",
   "id": "7f10c7eb",
   "metadata": {},
   "source": [
    "---\n",
    "* Al estar compuesta por una parte decimal, se almacenará cómo un flotante aunque su valor sea.\n",
    "---"
   ]
  },
  {
   "cell_type": "markdown",
   "id": "178f3627",
   "metadata": {},
   "source": [
    "**1.1.3 Suma las dos variables `x` e `y`, almacena su valor en la variable `z` e imprime dicha variable ¿de qué tipo es?**"
   ]
  },
  {
   "cell_type": "code",
   "execution_count": 70,
   "id": "595e0df1",
   "metadata": {},
   "outputs": [
    {
     "name": "stdout",
     "output_type": "stream",
     "text": [
      "5.0\n"
     ]
    },
    {
     "data": {
      "text/plain": [
       "float"
      ]
     },
     "execution_count": 70,
     "metadata": {},
     "output_type": "execute_result"
    }
   ],
   "source": [
    "z = x + y \n",
    "print(z)\n",
    "type(z)"
   ]
  },
  {
   "cell_type": "markdown",
   "id": "8f943ee8",
   "metadata": {},
   "source": [
    "---\n",
    "* La función type() nos dará como resultado el tipo de variable del objeto.\n",
    "---"
   ]
  },
  {
   "cell_type": "markdown",
   "id": "f0e765f0",
   "metadata": {},
   "source": [
    "**1.1.4 Crea dos listas llamadas `lista1` y `lista2` con los siguientes valores:**\n",
    "\n",
    "   + ***Lista 1: 1, 2, 5, 4, 8, 0***\n",
    "   + ***Lista 2: 3.1, 4.2, 5.6, 88, 4, 10***\n",
    "\n",
    "**Genera con un bucle una lista (llámala `lista3`), donde cada valor de la nueva lista debe ser una tupla con el valor que corresponde a cada posición en cada una de las listas (p.ej. el primer valor debe ser una tupla con los valores 1 y 3.1).**"
   ]
  },
  {
   "cell_type": "code",
   "execution_count": 71,
   "id": "1cbdd96e",
   "metadata": {},
   "outputs": [
    {
     "name": "stdout",
     "output_type": "stream",
     "text": [
      "[(1, 3.1), (2, 4.2), (5, 5.6), (4, 88), (8, 4), (0, 10)]\n"
     ]
    }
   ],
   "source": [
    "lista1 = [1, 2, 5, 4, 8, 0]\n",
    "lista2 = [3.1, 4.2, 5.6, 88, 4, 10]\n",
    "\n",
    "lista3 = []\n",
    "for i in range (len(lista1)):\n",
    "    tupla = (lista1[i], lista2[i])\n",
    "    lista3.append(tupla)\n",
    "    \n",
    "print(lista3)"
   ]
  },
  {
   "cell_type": "markdown",
   "id": "3ff1a9c2",
   "metadata": {},
   "source": [
    "---\n",
    "* Creamos las listas con los valores dados entre []\n",
    "* La lista3 contendrá una lista, [].\n",
    "* Generamos  una tupla mediante un bucle con una iteración de rango que repase el numero de posiciones de la lista1 que debe de ser igual al de la lista2 para la realización de la tarea, el recuento de posiciones lo ejecutará la función len().\n",
    "* Finalmente usando la función propia de las lista de Python usaremos append() para agregar la tupla generada a lista3.\n",
    "---"
   ]
  },
  {
   "cell_type": "markdown",
   "id": "24e1f496",
   "metadata": {},
   "source": [
    "**1.1.5 Utilizando otro bucle imprime para cada elemento de `lista3` el siguiente mensaje:**\n",
    "`El número #1 es #2 veces mayor que el número #3`.\n",
    "**Donde:**\n",
    "* `#1` es el primer sub elemento de cada componente de `lista3`.\n",
    "* `#2` es el cociente entre el primer y segundo elemento de cada componente de `lista3` y debe estar redondeado a tres cifras decimales.\n",
    "* `#3` es el segundo elemento de cada componente de `lista3`."
   ]
  },
  {
   "cell_type": "code",
   "execution_count": 72,
   "id": "b65ac4df",
   "metadata": {},
   "outputs": [
    {
     "name": "stdout",
     "output_type": "stream",
     "text": [
      "El número 1 es 0.323 veces mayor que el número 3.1\n",
      "El número 2 es 0.476 veces mayor que el número 4.2\n",
      "El número 5 es 0.893 veces mayor que el número 5.6\n",
      "El número 4 es 0.045 veces mayor que el número 88\n",
      "El número 8 es 2.0 veces mayor que el número 4\n",
      "El número 0 es 0.0 veces mayor que el número 10\n"
     ]
    }
   ],
   "source": [
    "for tupla in lista3:\n",
    "    num1 = tupla[0]\n",
    "    num2 = round(tupla[0] / tupla[1], 3)\n",
    "    num3 = tupla[1]\n",
    "    print(f\"El número {num1} es {num2} veces mayor que el número {num3}\")\n"
   ]
  },
  {
   "cell_type": "markdown",
   "id": "b72c3a98",
   "metadata": {},
   "source": [
    "---\n",
    "*  Generamos un bucle en el que iremos iterando las tuplas de la lista3 con el primer subelemento como num1 para compararlo con el segundo subelemento de dicha tupla como num3, la comparacion la realizamos mediante un cociente entre ellas y guardamos en num2.\n",
    "\n",
    "* La función round() redondea la variable dada en el primer argumento, y en el segundo se le determina a la cifra que se quiere ajustar.\n",
    "\n",
    "* La función print(f\"\") imprime un mensaje por pantalla utilizando una “cadena de formato” que incluye las instrucciones para mezclar múltiples cadenas en la cadena final a mostrar por pantallaes una función especial porque recibe un número variable de parámetros.\n",
    "---"
   ]
  },
  {
   "cell_type": "markdown",
   "id": "f2aebdad",
   "metadata": {},
   "source": [
    "**1.2.1 Crea un objeto llamado `texto` que contenga la cadena de caracteres**\n",
    "`En un lugar de la Mancha, de cuyo nombre no quiero acordarme, no ha mucho tiempo que vivía un hidalgo de los de lanza en astillero, adarga antigua, rocín flaco y galgo corredor.` "
   ]
  },
  {
   "cell_type": "code",
   "execution_count": 59,
   "id": "9f4679d3",
   "metadata": {},
   "outputs": [
    {
     "name": "stdout",
     "output_type": "stream",
     "text": [
      "En un lugar de la Mancha, de cuyo nombre no quiero acordarme, no ha mucho tiempo que vivía un hidalgo de los de lanza en astillero, adarga antigua, rocín flaco y galgo corredor.\n"
     ]
    }
   ],
   "source": [
    "texto = 'En un lugar de la Mancha, de cuyo nombre no quiero acordarme, no ha mucho tiempo que vivía un hidalgo de los de lanza en astillero, adarga antigua, rocín flaco y galgo corredor.'\n",
    "print(texto)"
   ]
  },
  {
   "cell_type": "markdown",
   "id": "1d00368e",
   "metadata": {},
   "source": [
    "**1.2.2 Cuenta el número de caracteres a que contiene el objeto texto, sin utilizar el método count() de la clase str. Compara tu resultado con el método .count() del tipo str.**"
   ]
  },
  {
   "cell_type": "code",
   "execution_count": 73,
   "id": "75184325",
   "metadata": {},
   "outputs": [
    {
     "name": "stdout",
     "output_type": "stream",
     "text": [
      "19\n",
      "19\n"
     ]
    }
   ],
   "source": [
    "contador = 0\n",
    "for caracter in texto:\n",
    "    if caracter == \"a\":\n",
    "        contador += 1\n",
    "\n",
    "print(contador)\n",
    "print(texto.count(\"a\"))"
   ]
  },
  {
   "cell_type": "markdown",
   "id": "cd3b0b34",
   "metadata": {},
   "source": [
    "---\n",
    "* Creamos la variable contador para ir añadiendole +1 con el operador += que es igual a contador = contador + 1. \n",
    "* Mediante una instrucción condicional if, el numero de veces que coincida que caracter sea \"a\" se aplicará contador +=.\n",
    "* Tenemos el mismo resultado que usando directamente la funcion propia de los objetos count() en texto con la \"a\".\n",
    "---"
   ]
  },
  {
   "cell_type": "markdown",
   "id": "6ab0346c",
   "metadata": {},
   "source": [
    "**1.2.3 Sustituye todas las enes existentes en texto por enes mayúsculas.**"
   ]
  },
  {
   "cell_type": "code",
   "execution_count": 74,
   "id": "5acd4d0c",
   "metadata": {},
   "outputs": [
    {
     "name": "stdout",
     "output_type": "stream",
     "text": [
      "EN uN lugar de la MaNcha, de cuyo Nombre No quiero acordarme, No ha mucho tiempo que vivía uN hidalgo de los de laNza eN astillero, adarga aNtigua, rocíN flaco y galgo corredor.\n"
     ]
    }
   ],
   "source": [
    "caracteres = []\n",
    "for letra in texto:\n",
    "    if letra == \"n\":\n",
    "        letra = \"N\"\n",
    "    caracteres.append(letra)\n",
    "\n",
    "texto = \"\".join(caracteres)\n",
    "print(texto)"
   ]
  },
  {
   "cell_type": "markdown",
   "id": "31ceb747",
   "metadata": {},
   "source": [
    "---\n",
    "* Creamos una lista vacia para introducir los caracteres modificicados.\n",
    "* Generamos un bucle a través de la lista en la cadena de texto de la variable #texto aplicando la condicion de si se encuentra un caracter al que llamaremos letra \"n\" lo sustituya por la que queremos introducir \"N\", de no ser igual no realiza acción y continua.\n",
    "* A continuación, agregamos todos los caracteres nombrados letra a nuestra lista vacia #caracteres.\n",
    "* Por último, le asignamos a la lista comnpuesta por la cadena de texto de #texto una unión con la lista creada con los caracteres que nos interesan modificados.\n",
    "---"
   ]
  },
  {
   "cell_type": "markdown",
   "id": "b30c6b6f",
   "metadata": {},
   "source": [
    "**1.2.4 Crea un diccionario llamado quijote con las siguientes características:**\n",
    "\n",
    "+ **Cada clave del diccionario debe ser cada uno de los distintos caracteres existentes en texto. [Las letras con y sin tilde se consideran caracteres distintos, pero las letras en mayúsculas y minúsculas se consideran iguales].**\n",
    "+ **El valor asociado a cada clave debe ser el número de veces que aparece el carácter de cada clave. Por ejemplo, si la letra a apareciera 21 veces el valor en el diccionario debe ser 'a':21.**"
   ]
  },
  {
   "cell_type": "code",
   "execution_count": 75,
   "id": "45ee9ed1",
   "metadata": {},
   "outputs": [
    {
     "name": "stdout",
     "output_type": "stream",
     "text": [
      "{'e': 13, 'n': 11, ' ': 32, 'u': 8, 'l': 9, 'g': 6, 'a': 19, 'r': 11, 'd': 8, 'm': 5, 'c': 7, 'h': 4, ',': 4, 'y': 2, 'o': 16, 'b': 1, 'q': 2, 'i': 6, 't': 3, 'p': 1, 'v': 2, 'í': 2, 's': 2, 'z': 1, 'f': 1, '.': 1}\n"
     ]
    }
   ],
   "source": [
    "quijote = {}\n",
    "\n",
    "for caracter in texto:\n",
    "    caracter = caracter.lower()\n",
    "    if caracter in quijote:\n",
    "        quijote[caracter] += 1\n",
    "    else:\n",
    "        quijote[caracter] = 1\n",
    "        \n",
    "print(quijote)"
   ]
  },
  {
   "cell_type": "markdown",
   "id": "4fee9e5b",
   "metadata": {},
   "source": [
    "---\n",
    "* Para que las letras minusculas y mayusculas sean iguales usamos una función de la cadena que crea una una copia convertiendo cada caracter a minusculas en este caso. A continuación se le asigna el valor a caracter de la copia con la cadena modificada.  ---"
   ]
  },
  {
   "cell_type": "markdown",
   "id": "7d05162e",
   "metadata": {},
   "source": [
    "**1.2.5 Modifica el apartado anterior pero que el diccionario en lugar de contener el número de veces que se repite cada carácter, incluya un subdiccionario con las claves repeticiones y posiciones . Donde:**\n",
    "\n",
    " + **Repeticiones debe contener el número de veces que se repite dicho carácter.**\n",
    "\n",
    "+ **Posiciones debe contener una lista con la posiciones que ocupa dentro de texto dicho carácter.**\n",
    "\n",
    "**Por ejemplo, en la cadena \"En un\" la n ocupa las posiciones segunda y quinta, por lo que el elemento del diccionario para el carácter n debe ser 'n':{'posiciones':[1, 4], 'repeticiones':2}.**"
   ]
  },
  {
   "cell_type": "code",
   "execution_count": 79,
   "id": "bee2e538",
   "metadata": {},
   "outputs": [
    {
     "name": "stdout",
     "output_type": "stream",
     "text": [
      "{'e': {'repeticiones': 13, 'posiciones': [0, 13, 27, 39, 47, 59, 76, 83, 103, 110, 118, 127, 172]}, 'n': {'repeticiones': 11, 'posiciones': [1, 4, 20, 34, 41, 62, 92, 114, 119, 140, 152]}, ' ': {'repeticiones': 32, 'posiciones': [2, 5, 11, 14, 17, 25, 28, 33, 40, 43, 50, 61, 64, 67, 73, 80, 84, 90, 93, 101, 104, 108, 111, 117, 120, 131, 138, 147, 153, 159, 161, 167]}, 'u': {'repeticiones': 8, 'posiciones': [3, 7, 30, 45, 69, 82, 91, 144]}, 'l': {'repeticiones': 9, 'posiciones': [6, 15, 98, 105, 112, 125, 126, 155, 164]}, 'g': {'repeticiones': 6, 'posiciones': [8, 99, 136, 143, 162, 165]}, 'a': {'repeticiones': 19, 'posiciones': [9, 16, 19, 23, 51, 56, 66, 89, 97, 113, 116, 121, 132, 134, 137, 139, 145, 156, 163]}, 'r': {'repeticiones': 11, 'posiciones': [10, 38, 48, 54, 57, 128, 135, 148, 170, 171, 175]}, 'd': {'repeticiones': 8, 'posiciones': [12, 26, 55, 96, 102, 109, 133, 173]}, 'm': {'repeticiones': 5, 'posiciones': [18, 36, 58, 68, 77]}, 'c': {'repeticiones': 7, 'posiciones': [21, 29, 52, 70, 150, 157, 168]}, 'h': {'repeticiones': 4, 'posiciones': [22, 65, 71, 94]}, ',': {'repeticiones': 4, 'posiciones': [24, 60, 130, 146]}, 'y': {'repeticiones': 2, 'posiciones': [31, 160]}, 'o': {'repeticiones': 16, 'posiciones': [32, 35, 42, 49, 53, 63, 72, 79, 100, 106, 129, 149, 158, 166, 169, 174]}, 'b': {'repeticiones': 1, 'posiciones': [37]}, 'q': {'repeticiones': 2, 'posiciones': [44, 81]}, 'i': {'repeticiones': 6, 'posiciones': [46, 75, 86, 95, 124, 142]}, 't': {'repeticiones': 3, 'posiciones': [74, 123, 141]}, 'p': {'repeticiones': 1, 'posiciones': [78]}, 'v': {'repeticiones': 2, 'posiciones': [85, 87]}, 'í': {'repeticiones': 2, 'posiciones': [88, 151]}, 's': {'repeticiones': 2, 'posiciones': [107, 122]}, 'z': {'repeticiones': 1, 'posiciones': [115]}, 'f': {'repeticiones': 1, 'posiciones': [154]}, '.': {'repeticiones': 1, 'posiciones': [176]}}\n"
     ]
    }
   ],
   "source": [
    "quijote = {}\n",
    "for i in range(len(texto)):\n",
    "    caracter = texto[i].lower()\n",
    "    if caracter in quijote:\n",
    "        quijote[caracter][\"repeticiones\"] += 1\n",
    "        quijote[caracter][\"posiciones\"].append(i)\n",
    "    else:\n",
    "        quijote[caracter] = {\"repeticiones\": 1, \"posiciones\": [i]}\n",
    "\n",
    "print(quijote)\n"
   ]
  },
  {
   "cell_type": "markdown",
   "id": "2a83fb38",
   "metadata": {},
   "source": [
    "* Creamos un diccinario vacio para almacenar las claves requeridas.\n",
    "* Creamos un bucle for que debe iterar utilizando i una secuencia con rango igual a la longitud de la cadena 'texto'.\n",
    "* Repetimos el paso de normalizar mayusculas y minisculas, "
   ]
  },
  {
   "cell_type": "markdown",
   "id": "541fb174",
   "metadata": {},
   "source": [
    "##### Ejercicio 1.3\n",
    "**1.3.1 Crea una dos listas llamadas `grupo1` y `grupo2` que contengan de forma respectiva los siguientes valores de tipo `str`:**\n",
    "  * A, B, C, D, E, E, A, Z, A, R, A, D, D.**\n",
    "  * A, F, E, F, Z, L, M, N, M, A, R.**\n",
    "\n"
   ]
  },
  {
   "cell_type": "code",
   "execution_count": null,
   "id": "a67999e4",
   "metadata": {},
   "outputs": [],
   "source": [
    "grupo1 = [\"A\", \"B\", \"C\", \"D\", \"E\", \"E\", \"A\", \"Z\", \"A\", \"R\", \"A\", \"D\", \"D\"]\n",
    "grupo2 = [\"A\", \"F\", \"E\", \"F\", \"Z\", \"L\", \"M\", \"N\", \"M\", \"A\", \"R\"]"
   ]
  },
  {
   "cell_type": "markdown",
   "id": "72a89369",
   "metadata": {},
   "source": [
    " **Indica lo que se pide a continuación:**"
   ]
  },
  {
   "cell_type": "markdown",
   "id": "4739039b",
   "metadata": {},
   "source": [
    "**1.3.2 Número de elementos de cada lista**"
   ]
  },
  {
   "cell_type": "code",
   "execution_count": 86,
   "id": "86344ba2",
   "metadata": {
    "scrolled": true
   },
   "outputs": [
    {
     "name": "stdout",
     "output_type": "stream",
     "text": [
      "Número de elementos de grupo1: 13\n",
      "Número de elementos de grupo2: 11\n"
     ]
    }
   ],
   "source": [
    "print(\"Número de elementos de grupo1:\", len(grupo1))\n",
    "print(\"Número de elementos de grupo2:\", len(grupo2))"
   ]
  },
  {
   "cell_type": "markdown",
   "id": "7abb9007",
   "metadata": {},
   "source": [
    "---\n",
    "* La función len() permite obtener la longitud de una lista, es decir, el número de elementos que contiene.\n",
    "---"
   ]
  },
  {
   "cell_type": "markdown",
   "id": "055ac084",
   "metadata": {},
   "source": [
    "**1.3.3 Número de elementos distintos de cada lista**"
   ]
  },
  {
   "cell_type": "code",
   "execution_count": 88,
   "id": "4c1f774c",
   "metadata": {},
   "outputs": [
    {
     "name": "stdout",
     "output_type": "stream",
     "text": [
      "Número de elementos distintos de grupo1: 7\n",
      "Número de elementos distintos de grupo2: 8\n"
     ]
    }
   ],
   "source": [
    "grupo1_distintos = set(grupo1)\n",
    "grupo2_distintos = set(grupo2)\n",
    "\n",
    "print(\"Número de elementos distintos de grupo1:\", len(grupo1_distintos))\n",
    "print(\"Número de elementos distintos de grupo2:\", len(grupo2_distintos))"
   ]
  },
  {
   "cell_type": "markdown",
   "id": "1996631f",
   "metadata": {},
   "source": [
    "---\n",
    "* Para obtener el número de elementos distintos de cada lista, podemos crear un conjunto a partir de cada lista, ya que los conjuntos no permiten elementos repetidos. Luego, podemos usar la función len() para obtener la longitud del conjunto, que sería igual al número de elementos distintos.\n",
    "---"
   ]
  },
  {
   "cell_type": "markdown",
   "id": "a0ae5fbc",
   "metadata": {},
   "source": [
    "**1.3.4 Número de elementos comunes entre los dos listas**"
   ]
  },
  {
   "cell_type": "code",
   "execution_count": 87,
   "id": "07cdc302",
   "metadata": {
    "scrolled": true
   },
   "outputs": [
    {
     "name": "stdout",
     "output_type": "stream",
     "text": [
      "Número de elementos comunes entre grupo1 y grupo2: 4\n"
     ]
    }
   ],
   "source": [
    "grupo1_set=set(grupo1)\n",
    "grupo2_set=set(grupo2)\n",
    "comunes = grupo1_set.intersection(grupo2_set)\n",
    "print(\"Número de elementos comunes entre grupo1 y grupo2:\", len(comunes))"
   ]
  },
  {
   "cell_type": "markdown",
   "id": "59376323",
   "metadata": {},
   "source": [
    "* Para obtener el número de elementos comunes entre las dos listas, podemos crear dos conjuntos a partir de cada lista y utilizar el método intersection para obtener los elementos comunes entre ambos conjuntos. La longitud del conjunto resultante sería igual al número de elementos comunes entre las dos listas."
   ]
  },
  {
   "cell_type": "markdown",
   "id": "c8f20cbe",
   "metadata": {},
   "source": [
    "**1.3.5 Número de elementos no comunes entre las dos listas**"
   ]
  },
  {
   "cell_type": "code",
   "execution_count": 91,
   "id": "68a13832",
   "metadata": {
    "scrolled": true
   },
   "outputs": [
    {
     "name": "stdout",
     "output_type": "stream",
     "text": [
      "Número de elementos no comunes entre grupo1 y grupo2: 7\n"
     ]
    }
   ],
   "source": [
    "no_comunes = grupo1_set^grupo2_set\n",
    "print(\"Número de elementos no comunes entre grupo1 y grupo2:\", len(no_comunes))"
   ]
  },
  {
   "cell_type": "markdown",
   "id": "dc72423a",
   "metadata": {},
   "source": [
    "* En cuanto a los elementos no comunes, una forma de obtenerlos es mediante la diferencia simetrica entre los conjuntos, utilizando a^b donde a y b son conjuntos, eso nos daria los elementos que existen en uno pero no en otro conjunto, con el número de elementos no comunes entre ambas listas."
   ]
  },
  {
   "cell_type": "markdown",
   "id": "b45aadf6",
   "metadata": {},
   "source": [
    "**1.3.6 Número de elementos totales entre las dos listas**"
   ]
  },
  {
   "cell_type": "code",
   "execution_count": 92,
   "id": "9b2e96a2",
   "metadata": {},
   "outputs": [
    {
     "name": "stdout",
     "output_type": "stream",
     "text": [
      "Número de elementos totales entre grupo1 y grupo2: 24\n"
     ]
    }
   ],
   "source": [
    "totales = grupo1 + grupo2\n",
    "print(\"Número de elementos totales entre grupo1 y grupo2:\", len(totales))"
   ]
  },
  {
   "cell_type": "markdown",
   "id": "978af31b",
   "metadata": {},
   "source": [
    "---\n",
    "* Para obtener el número de elementos totales entre las dos listas, podemos unir ambas listas y usar la función len() para obtener la longitud de la lista resultante, es decir, el número de elementos totales.\n",
    "---"
   ]
  },
  {
   "cell_type": "markdown",
   "id": "32b5b3fc",
   "metadata": {},
   "source": [
    "**1.3.7 Número de elementos distintos entre las dos listas**"
   ]
  },
  {
   "cell_type": "code",
   "execution_count": 94,
   "id": "a478542c",
   "metadata": {
    "scrolled": true
   },
   "outputs": [
    {
     "name": "stdout",
     "output_type": "stream",
     "text": [
      "Número de elementos distintos entre grupo1 y grupo2: 11\n"
     ]
    }
   ],
   "source": [
    "distintos = grupo1_set.union(grupo2_set)\n",
    "print(\"Número de elementos distintos entre grupo1 y grupo2:\", len(distintos))"
   ]
  },
  {
   "cell_type": "markdown",
   "id": "faf25486",
   "metadata": {},
   "source": [
    "---\n",
    "* Para obtener el número de elementos distintos entre las dos listas, podemos crear dos conjuntos a partir de cada lista y utilizar el método union para obtener los elementos distintos entre ambos conjuntos. La longitud del conjunto resultante sería igual al número de elementos distintos entre las dos listas.\n",
    "---"
   ]
  },
  {
   "cell_type": "markdown",
   "id": "76154b33",
   "metadata": {},
   "source": [
    "**1.3.8 Crea una copia de grupo1 en el objeto grupo3**"
   ]
  },
  {
   "cell_type": "code",
   "execution_count": 96,
   "id": "eb9f9890",
   "metadata": {},
   "outputs": [],
   "source": [
    "grupo3=grupo1.copy()"
   ]
  },
  {
   "cell_type": "markdown",
   "id": "1d1eceae",
   "metadata": {},
   "source": [
    "---\n",
    "* Para crear una copia de grupo1 en el objeto grupo3, se podria usar el metodo copy() para crear una copia superficial del objeto y guardarlo en otra variable o directamente asignando el objeto a grupo3=grupo1.\n",
    "---"
   ]
  },
  {
   "cell_type": "markdown",
   "id": "a6d7518a",
   "metadata": {},
   "source": [
    "**1.3.9 Elimina los elementos 'A' de grupo3**"
   ]
  },
  {
   "cell_type": "code",
   "execution_count": 98,
   "id": "fee6a221",
   "metadata": {},
   "outputs": [
    {
     "name": "stdout",
     "output_type": "stream",
     "text": [
      "['B', 'C', 'D', 'E', 'E', 'Z', 'R', 'D', 'D']\n"
     ]
    }
   ],
   "source": [
    "grupo3 = [x for x in grupo3 if x != 'A'] \n",
    "print(grupo3)"
   ]
  },
  {
   "cell_type": "markdown",
   "id": "cc7ca2fc",
   "metadata": {},
   "source": [
    "---\n",
    "* Utilizamos una  construcción especial de Python llamada \"list comprehension\" para crear una nueva lista grupo3 que solo contiene los elementos de la lista original grupo3 que no son iguales a \"A\". El código utiliza el patrón x for x in grupo3 if x != 'A'. Esto significa tomar cada elemento x de la lista grupo3, y añadirlo a la nueva lista grupo3 solo si x es diferente de \"A\"\n",
    "---"
   ]
  },
  {
   "cell_type": "markdown",
   "id": "944c26c3",
   "metadata": {},
   "source": [
    "**1.3.10 Añade tres elementos 'T' uno al inicio y dos al final de la lista grupo3**"
   ]
  },
  {
   "cell_type": "code",
   "execution_count": 99,
   "id": "e0c58e70",
   "metadata": {},
   "outputs": [
    {
     "name": "stdout",
     "output_type": "stream",
     "text": [
      "['T', 'B', 'C', 'D', 'E', 'E', 'Z', 'R', 'D', 'D', 'T', 'T']\n"
     ]
    }
   ],
   "source": [
    "grupo3.insert(0, 'T')\n",
    "grupo3.append('T')\n",
    "grupo3.append('T')\n",
    "print(grupo3)"
   ]
  },
  {
   "cell_type": "markdown",
   "id": "62819ceb",
   "metadata": {},
   "source": [
    "---\n",
    "* Para añadir al inicio usamos el método insert() para insertar un elemento \"T\" en la posición 0 de la lista grupo3, es decir al principio de la lista.\n",
    "* Para añadir dos \"T\" al final repetimos dos veces el método append() para agregar un elemento \"T\" al final de la lista grupo3.\n",
    "---"
   ]
  },
  {
   "cell_type": "markdown",
   "id": "6419642f",
   "metadata": {},
   "source": [
    "##### Ejercicio 1.4\n",
    "**1.4.1 Crea una lista con los siguientes valores:\n",
    "`[1, 2.1, 'a', None, 'A', 4, 5, 3.141516, 2.3 + 0.1111j, '6.2', None]`.**\n"
   ]
  },
  {
   "cell_type": "code",
   "execution_count": 379,
   "id": "540a3347",
   "metadata": {},
   "outputs": [],
   "source": [
    "valores_lista = [1, 2.1, 'a', None, 'A', 4, 5, 3.141516, 2.3 + 0.1111j, '6.2', None]"
   ]
  },
  {
   "cell_type": "markdown",
   "id": "13c31b26",
   "metadata": {},
   "source": [
    "**1.4.2 Crea una función llamada `limpiar_lista` que de entrada se le proporcione una lista (asume que esto siempre va a ser cierto)**"
   ]
  },
  {
   "cell_type": "code",
   "execution_count": 380,
   "id": "ed8ce1db",
   "metadata": {},
   "outputs": [
    {
     "data": {
      "text/plain": [
       "[1, 2.1, 4, 5, 3.141516]"
      ]
     },
     "execution_count": 380,
     "metadata": {},
     "output_type": "execute_result"
    }
   ],
   "source": [
    "def limpiar_lista(lista):\n",
    "    \"\"\"\"Utiliza una lista por comprensión para filtrar solo los elementos numéricos\"\"\"\n",
    "    return [x for x in lista if type(x) in (int, float)]\n",
    "\n",
    "limpiar_lista(valores_lista)"
   ]
  },
  {
   "cell_type": "markdown",
   "id": "b393373b",
   "metadata": {},
   "source": [
    "---\n",
    "* Usamos en este caso una lista por comprensión que es una forma concisa y legible de crear una nueva lista a partir de una lista existente. Es una construcción de lenguaje que combina un bucle for con una expresión para generar un nuevo conjunto de datos.\n",
    "* Con el bucle for para recorremos cada elemento de la lista y se comprueba si es un número (int, float) y si es así, se agrega a una nueva lista llamada \"lista_numerica\". Al final del bucle, se devuelve la lista \"lista_numerixa\" que contiene solo los elementos numéricos de la lista original.\n",
    "---"
   ]
  },
  {
   "cell_type": "markdown",
   "id": "8f9123b9",
   "metadata": {},
   "source": [
    "**1.4.3 Crea otra función llamada `limpiar_lista_2` igual que la anterior pero que los elementos de tipo `None` sean substituidos por otro valor que también debe ser un argumento de entrada en la función y que por defecto su valor sea 0. Aplícala a la lista del enunciado.**"
   ]
  },
  {
   "cell_type": "code",
   "execution_count": 388,
   "id": "68bbc65c",
   "metadata": {},
   "outputs": [
    {
     "name": "stdout",
     "output_type": "stream",
     "text": [
      "Lista limpia_2: [1, 2.1, 0, 4, 5, 3.141516, 0]\n"
     ]
    }
   ],
   "source": [
    "def limpiar_lista_2(lista, valor_sustituto=0):\n",
    "    lista = [valor_sustituto if x == None else x for x in lista]\n",
    "    lista = [x for x in lista if type(x) in [int, float]]\n",
    "    return lista\n",
    "\n",
    "print(\"Lista limpia_2:\", limpiar_lista_2(valores_lista))"
   ]
  },
  {
   "cell_type": "markdown",
   "id": "ac28462a",
   "metadata": {},
   "source": [
    "---\n",
    "* La función limpiar_lista_2 sería similar a limpiar_lista, pero con la adición de un argumento adicional valor_sustituto que por defecto toma el valor de 0 y sustitirá al none en tal caso.\n",
    "* Para que sea tenido en cuenta los none se deben filtrar antes del filtado por elementos numericos, ya que none sería eliminado por no ser de ningún tipo. \n",
    "---"
   ]
  },
  {
   "cell_type": "markdown",
   "id": "5b8ab7a1",
   "metadata": {},
   "source": [
    "**1.4.4 Crea una función llamada `media_propia` sin usar las funciones propias de Python que:**\n",
    "   + Como argumento de entrada acepte una lista.\n",
    "   + Que el primer paso que realice sea tratar la lista de entrada de forma que se obtengan dos listas con únicamente valores numéricos tratados con las funciones `limpiar_lista` y `limpiar_lista2`.\n",
    "   + Como salida debe proporcionar dos valores la media de la lista de entrada tratada con la función `limpiar_lista` y la media de la lista de entrada tratada con la función `limpiar_lista_2`."
   ]
  },
  {
   "cell_type": "code",
   "execution_count": 389,
   "id": "98bbffa8",
   "metadata": {},
   "outputs": [
    {
     "data": {
      "text/plain": [
       "(2.1773594285714286, 2.1773594285714286)"
      ]
     },
     "execution_count": 389,
     "metadata": {},
     "output_type": "execute_result"
    }
   ],
   "source": [
    "def media_propia(lista):\n",
    "    \"\"\"Aplica las funciones limpiar_lista y limpiar_lista_2 a la lista de entrada y calcula la media de cada lista limpia\"\"\"\n",
    "    lista_limpia = limpiar_lista(lista)\n",
    "    lista_limpia_2 = limpiar_lista_2(lista)\n",
    "    \n",
    "    media_limpia = sum(lista_limpia) / len(lista_limpia)\n",
    "    media_limpia_2 = sum(lista_limpia_2) / len(lista_limpia_2)\n",
    "    return media_limpia, media_limpia_2\n",
    "\n",
    "media_propia(valores_lista)"
   ]
  },
  {
   "cell_type": "markdown",
   "id": "c08246ad",
   "metadata": {},
   "source": [
    "---\n",
    "* Se aplica las funciones a la lista de entrada y se guardan ya tratadas, en lista_limpia y lista_limpia_2.\n",
    "* La función media_propia es una función que tiene como entrada una lista y retorna dos valores, la media de la lista tratada con la función limpiar_lista y la media de la lista tratada con la función limpiar_lista_2.\n",
    "* La media la calcularemos usando la función `sum` para sumar los elementos numericos que contenga la lista y será dividida por el resultado de la función `len` que nos arrojará la cantidad de elementos que la componen.\n",
    "---"
   ]
  },
  {
   "cell_type": "markdown",
   "id": "acb8566d",
   "metadata": {},
   "source": [
    "**1.4.5 1. Crea una función llamada `calculos` de forma que:**\n",
    "   + Como argumento de entrada acepte una lista.\n",
    "   + La lista de entrada sea tratada con la función `limpiar_lista_2`.\n",
    "   + De salida proporcione un diccionario con tres valores:\n",
    "        * Uno de los valores debe ser el coeficiente de asimetría calculado como $A = \\frac{1}{n}\\sum_i (x_i - \\bar{x})^3$.\n",
    "        * Otro valor debe ser el coeficiente de curtosis calculado como $C = \\frac{1}{n}\\sum_i (x_i - \\bar{x})^4$.\n",
    "        * Otro valor debe ser el cálculo:\n",
    "        \n",
    "        $$\\frac{n}{6}\\left(\\left(\\frac{A}{\\sigma^3}\\right)^2 + \\left(\\frac{C}{\\sigma^4}\\right)\\right)$$\n",
    "        donde $\\sigma^2 = \\frac{1}{n}\\sum_i (x_i - \\bar{x})^2$, $n$ es el número de observaciones en la lista y $\\bar{x}$ es la media de las observaciones.\n",
    "        \n",
    "        \n",
    "**Aplica la función a la lista inicial del enunciado.**"
   ]
  },
  {
   "cell_type": "code",
   "execution_count": 393,
   "id": "514fabae",
   "metadata": {},
   "outputs": [
    {
     "name": "stdout",
     "output_type": "stream",
     "text": [
      "{'coeficiente_asimetría': 0.1707570311495854, 'coeficiente_curtosis': 1.604710235504345, 'k': 0.1751476384197639}\n"
     ]
    }
   ],
   "source": [
    "import math\n",
    "\n",
    "def calculos(lista):\n",
    "    \"\"\"Esta función toma como argumento una lista, limpia la lista con la función limpiar_lista_2 y devuelve un diccionario con tres valores: coeficiente de asimetría, coeficiente de curtosis y k.\"\"\"\n",
    "    lista = limpiar_lista_2(lista)\n",
    "    n = len(lista)\n",
    "    media = sum(lista)/n\n",
    "    desviacion = math.sqrt(sum([(x-media)**2 for x in lista])/n)\n",
    "    A = (1/n)*(sum([(x-media)**3 for x in lista]))/desviacion**3\n",
    "    C = (1/n)*(sum([(x-media)**4 for x in lista]))/desviacion**4\n",
    "    k = (n*(A**2 + C))/(6*desviacion**4)\n",
    "    return {\"coeficiente_asimetría\": A, \"coeficiente_curtosis\": C, \"k\": k}\n",
    "\n",
    "print(calculos(valores_lista))\n"
   ]
  },
  {
   "cell_type": "markdown",
   "id": "e43ccb98",
   "metadata": {},
   "source": [
    "##### Ejercicio 1.5 \n",
    "\n",
    "**1.5.1 Crea una función que se llame `rectangulo` que permita pintar un rectangulo con asterísticos, como el que se muestra a continuación:**\n",
    "```\n",
    "***********\n",
    "***********\n",
    "***********\n",
    "***********\n",
    "```"
   ]
  },
  {
   "cell_type": "code",
   "execution_count": 207,
   "id": "fad3ebbf",
   "metadata": {},
   "outputs": [],
   "source": [
    "def rectangulo(ancho,alto):\n",
    "    \"\"\"Genera un rectanculo formado por asteriscos con ancho y altura introducidas como argumentos\"\"\"\n",
    "    for i in range(alto):\n",
    "        print(\"*\" * ancho)\n"
   ]
  },
  {
   "cell_type": "code",
   "execution_count": 209,
   "id": "8534f01d",
   "metadata": {},
   "outputs": [
    {
     "name": "stdout",
     "output_type": "stream",
     "text": [
      "***********\n",
      "***********\n",
      "***********\n",
      "***********\n"
     ]
    }
   ],
   "source": [
    "rectangulo(11,4)"
   ]
  },
  {
   "cell_type": "markdown",
   "id": "4d6aeb47",
   "metadata": {},
   "source": [
    "---\n",
    "* En esta función se reciben dos argumentos: \"ancho\" y \"alto\" y se utiliza un ciclo \"for\" para imprimir una línea de asteriscos \"ancho\" veces, en cada iteracion del ciclo \"for\", representando la altura del rectangulo."
   ]
  },
  {
   "cell_type": "markdown",
   "id": "99f77016",
   "metadata": {},
   "source": [
    "**1.5.2 Las dimensiones del rectángulo deben ser los argumentos de entrada más uno adicional que permita decidir si el rectángulo debe ir o no relleno o vacío:**\n",
    "```\n",
    "***********\n",
    "*         *\n",
    "*         *\n",
    "*         *\n",
    "*         *\n",
    "***********\n",
    "```"
   ]
  },
  {
   "cell_type": "code",
   "execution_count": 223,
   "id": "38c4e90e",
   "metadata": {},
   "outputs": [],
   "source": [
    "def rectangulo(ancho, alto, relleno):\n",
    "    \"\"\"Genera un rectanculo formado por asteriscos con ancho y altura introducidas como argumetos, añadiendo un tercero opcionable coo booleano para relleno. \"\"\"\n",
    "    for i in range(alto):\n",
    "        if relleno:\n",
    "            print(\"*\"*ancho)\n",
    "        else:\n",
    "            if i == 0 or i == alto-1:\n",
    "                print(\"*\"*ancho)\n",
    "            else:\n",
    "                print(\"*\" + \" \"*(ancho-2) + \"*\")\n"
   ]
  },
  {
   "cell_type": "code",
   "execution_count": 224,
   "id": "d84be8a7",
   "metadata": {},
   "outputs": [
    {
     "name": "stdout",
     "output_type": "stream",
     "text": [
      "***********\n",
      "*         *\n",
      "*         *\n",
      "*         *\n",
      "*         *\n",
      "***********\n"
     ]
    }
   ],
   "source": [
    "rectangulo(11,6,False)"
   ]
  },
  {
   "cell_type": "markdown",
   "id": "ec9371e1",
   "metadata": {},
   "source": [
    "---\n",
    "* Utilizamos una lógica condicional en la función para determinar si se deben imprimir los bordes y/o rellenar el rectángulo en función del valor booleano especificado.\n",
    "* Ahora la diferencia al anterior es si relleno es False, se realiza una evaluación adicional. Comprabamos si la iteración actual es la primera o la última (i == 0 or i == alto-1) si es asi, se imprime una linea de asteriscos de ancho completo. Esto porque estas son las lineas que conforman los bordes del rectangulo.\n",
    "* En las iteraciones restantes (i != 0 and i != alto-1) se imprimen los bordes del rectangulo, un asterisco a la izquierda, y otro a la derecha, y se llena con espacios en blanco el espacio restante, logrando asi que solo se impriman los bordes del rectangulo.\n",
    "---"
   ]
  },
  {
   "cell_type": "markdown",
   "id": "9e08ca8d",
   "metadata": {},
   "source": [
    "**Ejercicio 1.6\n",
    "Para superar este ejercicio se pide lo siguiente:**\n",
    "\n",
    "**1.6.1Programa una función que tenga internamente una contraseña prefijada y que solicite por pantalla al usuario una contraseña hasta que el usuario la acierte y le muestre un mensaje avisando de que la ha acertado.**\n",
    "\n"
   ]
  },
  {
   "cell_type": "code",
   "execution_count": 255,
   "id": "7d69c236",
   "metadata": {},
   "outputs": [],
   "source": [
    "def Enter_password():\n",
    "    \"\"\"Función con contraseña prefijada y que solicite por pantalla al usuario una contraseña hasta que el usuario la acierte y le muestre un mensaje avisando de que la ha acertado\"\"\"\n",
    "    password = \"europea\"\n",
    "    while True:\n",
    "        input_password = input(\"Introduce la contraseña: \")\n",
    "        if input_password == password:\n",
    "            print(\"Contraseña correcta!\")\n",
    "            return\n",
    "        else:\n",
    "            print(\"La contraseña introducida no es correcta, por favor inténtalo de nuevo.\")"
   ]
  },
  {
   "cell_type": "markdown",
   "id": "369188d0",
   "metadata": {},
   "source": [
    "---\n",
    "* Para que la contraseña esté prefijada en el interior de la función y no se requiera como argumento, podemos simplemente asignar un valor a una variable dentro de la función antes de iniciar el bucle.\n",
    "* Utilizamos un bucle while True para solicitar al usuario una contraseña y compararla con la contraseña prefijada. Si la contraseña introducida es correcta, el bucle se detiene y se muestra un mensaje de que la contraseña ha sido acertada. Si la contraseña introducida es incorrecta, se muestra un mensaje que la contraseña no es correcta y se vuelve a pedir al usuario que la ingrese de nuevo.\n",
    "---"
   ]
  },
  {
   "cell_type": "markdown",
   "id": "b599461d",
   "metadata": {},
   "source": [
    "**1.6.2 Modifica la función anterior para que solo permita un número determinado de intentos y que en cada intento le indique al usuario cuántos intentos restantes le quedan.**"
   ]
  },
  {
   "cell_type": "code",
   "execution_count": 197,
   "id": "b9bc0a44",
   "metadata": {},
   "outputs": [],
   "source": [
    "def Enter_password():\n",
    "    \"\"\"Función con contraseña prefijada y que solicite por pantalla al usuario una contraseña con 5 intentos hasta que el usuario la acierte y le muestre un mensaje avisando de que la ha acertado o el numero de intentos que le quedan\"\"\"\n",
    "    password = \"europea\"\n",
    "    intentos = 0\n",
    "    max_intentos = 5\n",
    "    while intentos < max_intentos:\n",
    "        input_password = input(\"Introduce la contraseña: \")\n",
    "        intentos += 1\n",
    "        if input_password == password:\n",
    "            print(\"Contraseña correcta!\")\n",
    "            return\n",
    "        else:\n",
    "            intentos_restantes = max_intentos - intentos\n",
    "            if intentos_restantes == 1:\n",
    "                print(\"La contraseña introducida no es correcta. Te queda 1 intento.\")\n",
    "            else:\n",
    "                print(f\"La contraseña introducida no es correcta. Te quedan {intentos_restantes} intentos.\")\n",
    "    print(\"Has superado el número de intentos permitidos.\")\n"
   ]
  },
  {
   "cell_type": "markdown",
   "id": "e18e6c25",
   "metadata": {},
   "source": [
    "---\n",
    "* Para definir los intentos limitados definimos una variable contador llamada \"intentos\" que se inicializa en 0 antes del bucle while, en cada iteración se suma 1 y se compara con \"max_intentos\" que es 5. Si se alcanza el numero de intentos permitidos, se muestra un mensaje de error. Si se ingresa una contraseña incorrecta, se muestra el numero de intentos restantes.\n",
    "* Ahora debemos cambiar el tipo de while e introducir una operación condicional.\n",
    "* Tenemos una condición \"intentos\" < \"max_intentos\" y un bloque de código a ejecutar mientras dure esa condición \"intentos+=1\" y \"else\". Por lo tanto mientras que max_intentos sea mayor que intentos, se ejecutará el el bloque de código. Una vez se llega al final, se vuelve a empezar y si la condición se cumple, se ejecuta otra vez. En este caso se entra al bloque de código 5 veces, hasta que en la sexta, \"intentos\" vale 5 y por lo tanto la condición ya no se cumple.\n",
    "* Entonces tenemos dos maneras de finalizar el bucle, se incumpla la condición del while por lo que dejará de ejecutar su bloque de código o se cummpla la condicíon impuesta en el \"if\" y se finalice con \"print() + \"return\".\n"
   ]
  },
  {
   "cell_type": "markdown",
   "id": "a3b40375",
   "metadata": {},
   "source": [
    "**1.6.3 Modifica la función anterior para que en cada intento indique que la contraseña introducida no es correcta, indique los intentos restantes y que en cada intento el usuario tenga que esperar un segundo más para poder introducir otra contraseña. Puedes utilizar el método sleep del módulo time.**"
   ]
  },
  {
   "cell_type": "code",
   "execution_count": 192,
   "id": "5f5902f3",
   "metadata": {},
   "outputs": [],
   "source": [
    "import time"
   ]
  },
  {
   "cell_type": "code",
   "execution_count": 256,
   "id": "349c2847",
   "metadata": {},
   "outputs": [],
   "source": [
    "def Enter_password():\n",
    "    \"\"\"Función con contraseña prefijada y que solicite por pantalla al usuario una contraseña con 5 intentos hasta que el usuario la acierte y le muestre un mensaje avisando de que la ha acertado o el numero de intentos que le quedan y 1 s de latencia en cada fallo\"\"\"\n",
    "    password = \"europea\"\n",
    "    intentos = 0\n",
    "    max_intentos = 5\n",
    "    while intentos < max_intentos:\n",
    "        input_password = input(\"Introduce la contraseña: \")\n",
    "        intentos += 1\n",
    "        if input_password == password:\n",
    "            print(\"Contraseña correcta!\")\n",
    "            return\n",
    "        else:\n",
    "            time.sleep(1)\n",
    "            intentos_restantes = max_intentos - intentos\n",
    "            if intentos_restantes == 1:\n",
    "                print(\"La contraseña introducida no es correcta. Te queda 1 intento.\")\n",
    "            else:\n",
    "                print(f\"La contraseña introducida no es correcta. Te quedan {intentos_restantes} intentos.\")\n",
    "    print(\"Has superado el número de intentos permitidos.\")"
   ]
  },
  {
   "cell_type": "markdown",
   "id": "a9f1b51e",
   "metadata": {},
   "source": [
    "---\n",
    "* Primero debemos cargar el paquete \"time\" para poder usar su método time.sleep(), con argumento 1 este caso, para retardar segundo.\n",
    "* Después unicamente intrudicir este método \"sleep\" en el bucle while, para que en cada iteración vuelva a pedir la contraseña \n",
    "En esta función se utiliza el método sleep del módulo time en cada iteración, antes de volver a pedir la contraseña, para esperar un segundo. "
   ]
  },
  {
   "cell_type": "markdown",
   "id": "808c0dcd",
   "metadata": {},
   "source": [
    "**Ejercicio 1.7\n",
    "El teorema de los ceros de Bolzano enuncia que dados dos números  𝑎  y  𝑏 , reales con  𝑎<𝑏  y sea una función  𝑓  definida en  ℝ  continua en el intervalo cerrado  [𝑎,𝑏] . Si el signo de  𝑓(𝑎)  y  𝑓(𝑏)  es distinto, entonces como mínimo existe un valor  𝑐∈(𝑎,𝑏)  para el que  𝑓(𝑐)=0 .**\n",
    "\n",
    "**Este teorema sirve como base para distintos métodos de resolución de ecuaciones. Uno de los métodos consiste en:**\n",
    "\n",
    "Verificar que el signo de la función en  𝑎  y  𝑏  es distinto.\n",
    "Calcular el punto  𝑐  como el valor medio del intervalo  [𝑎,𝑏] . Se evalua  𝑓(𝑐)  y:\n",
    "Si  𝑓(𝑐)  es cero hemos encontrado una raíz (solución de la ecuación).\n",
    "En caso contrato se verifica si  𝑓(𝑐)  tiene signo opuesto con  𝑓(𝑎)  o con  𝑓(𝑏)  y en función de eso se tiene que volver a definir el intervalo como  [𝑎,𝑐]  o  [𝑐,𝑏] .\n",
    "Con este nuevo intervalo se vuelve a iniciar el proceso.\n",
    "El proceso continua hasta alcanzar la precisión especificada, calculada como la diferencia entre  𝑏−𝑎 . Es decir, si  |𝑏−𝑎|<𝑝𝑟𝑒𝑐𝑖𝑠𝑖𝑜𝑛 .\n",
    "\n"
   ]
  },
  {
   "cell_type": "markdown",
   "id": "36bf980d",
   "metadata": {},
   "source": [
    "**1.7.1 El ejercicio tiene varias partes:**\n",
    "\n",
    "**La primera consiste en programar una función que permita aplicar el método a una función de entrada. Pruébalo sobre la función  𝑓(𝑥)=𝑥−1  en el intervalo  [−1,10] .**"
   ]
  },
  {
   "cell_type": "code",
   "execution_count": 252,
   "id": "309fda0a",
   "metadata": {},
   "outputs": [],
   "source": [
    "def bolzano(f, a, b, precision):\n",
    "    \"\"\"Verificar que el signo de la función en  𝑎  y  𝑏  es distinto. a y b deben ser reales. El cálculo del punto intermedio se hace dividiendo el intervalo en dos (c = (a + b) / 2)\"\"\"\n",
    "    \n",
    "    while abs(b - a) > precision:\n",
    "        c = (a + b) / 2\n",
    "        if f(a) * f(c) < 0:\n",
    "            b = c\n",
    "        else:\n",
    "            a = c\n",
    "    return (a + b) / 2"
   ]
  },
  {
   "cell_type": "code",
   "execution_count": 244,
   "id": "4662450e",
   "metadata": {},
   "outputs": [
    {
     "data": {
      "text/plain": [
       "1.0000007152557373"
      ]
     },
     "execution_count": 244,
     "metadata": {},
     "output_type": "execute_result"
    }
   ],
   "source": [
    "bolzano(lambda x: x - 1,-1,10,1e-5)"
   ]
  },
  {
   "cell_type": "markdown",
   "id": "7e1e48b3",
   "metadata": {},
   "source": [
    "**1.7.2 La segunda parte consiste en programar otra función que permita aplicar el método a una función de entrada. Pero esta vez la forma de seleccionar el valor intermedio del intervalo  𝑐 , en lugar de ser el valor medio de  𝑎  y  𝑏  tiene que ser un número aleatorio entre  𝑎  y  𝑏 , para ello explora la función uniform.rvs del paquete scipy subclase stats. Pruébalo sobre la función  𝑓(𝑥)=𝑥−1  en el intervalo  [−1,10].**"
   ]
  },
  {
   "cell_type": "code",
   "execution_count": 251,
   "id": "c4dd2471",
   "metadata": {},
   "outputs": [],
   "source": [
    "from scipy import stats\n",
    "\n",
    "def bolzano_random(f, a, b, precision):\n",
    "    \"\"\"Verificar que el signo de la función en  𝑎  y  𝑏  es distinto. a y b deben ser reales. El cáculo del punto intermedio aleatorio entre a y b utilizando la función uniform.rvs del paquete scipy subclase stats.\"\"\"\n",
    "    while abs(b - a) > precision:\n",
    "        c = stats.uniform(a, b - a).rvs()\n",
    "        if f(a) * f(c) < 0:\n",
    "            b = c\n",
    "        else:\n",
    "            a = c\n",
    "    return (a + b) / 2\n"
   ]
  },
  {
   "cell_type": "code",
   "execution_count": 242,
   "id": "f8d68cdb",
   "metadata": {},
   "outputs": [
    {
     "data": {
      "text/plain": [
       "1.0000010099452106"
      ]
     },
     "execution_count": 242,
     "metadata": {},
     "output_type": "execute_result"
    }
   ],
   "source": [
    "bolzano_random(lambda x: x - 1,-1,10,1e-5)"
   ]
  },
  {
   "cell_type": "markdown",
   "id": "7b0f7a1f",
   "metadata": {},
   "source": [
    "**1.7.3 Por último utiliza ambas funciones cien veces sobre la función  𝑓(𝑥)  y evalua el tiempo, mínimo, máximo y medio que se ha tardado en alcanzar la solución. Compara los resultados de tiempo de ejecución de ambas funciones.**"
   ]
  },
  {
   "cell_type": "code",
   "execution_count": 245,
   "id": "bc8e4387",
   "metadata": {},
   "outputs": [
    {
     "name": "stdout",
     "output_type": "stream",
     "text": [
      "Tiempo promedio de ejecución de bolzano:  4.480998031795025e-06\n",
      "Tiempo promedio de ejecución de bolzano_random:  0.00886772699886933\n"
     ]
    }
   ],
   "source": [
    "import timeit\n",
    "\n",
    "f = lambda x: x - 1\n",
    "a = -1\n",
    "b = 10\n",
    "precision = 1e-5\n",
    "\n",
    "bolzano_time = timeit.timeit(lambda: bolzano(f, a, b, precision), number=100)\n",
    "bolzano_random_time = timeit.timeit(lambda: bolzano_random(f, a, b, precision), number=100)\n",
    "\n",
    "print(\"Tiempo promedio de ejecución de bolzano: \", bolzano_time/100)\n",
    "print(\"Tiempo promedio de ejecución de bolzano_random: \", bolzano_random_time/100)\n"
   ]
  },
  {
   "cell_type": "markdown",
   "id": "857e7054",
   "metadata": {},
   "source": [
    "---\n",
    "* En teoría, la función bolzano(f, a, b, precision) debería tardar menos tiempo en ejecutarse que bolzano_random(f, a, b, precision).\n",
    "* La razón de esto es que en bolzano(f, a, b, precision) se selecciona el punto medio del intervalo como el punto intermedio en cada iteración, mientras que en bolzano_random(f, a, b, precision) se selecciona un punto intermedio aleatorio entre los límites del intervalo. La selección de un punto intermedio aleatorio es un proceso computacionalmente más costoso que seleccionar el punto medio.\n",
    "---"
   ]
  },
  {
   "attachments": {
    "juego.png": {
     "image/png": "[encoded data removed]"
    }
   },
   "cell_type": "markdown",
   "id": "1a81d0c4",
   "metadata": {},
   "source": [
    "##### Ejercicio 1.8\n",
    "\n",
    "Una empresa desea construir un juego de azar cuyo funcionamiento es el siguiente:\n",
    "\n",
    "* Se deja caer una bola por un agujero superior.\n",
    "* La bola irá desciendo a través del tablero, el cual está repleto de obstáculos de forma que cada vez que la bola topa con uno de los obstáculos tiene la misma probabilidad de ir hacia la izquierda o hacia la derecha.\n",
    "* La bola irá avanzando hasta llegar al final del tablero y caer en una de las once casillas finales.\n",
    "\n",
    "\n",
    "![juego.png](attachment:juego.png)\n",
    "\n",
    "\n",
    "La empresa que desarrolla el juego desea conocer si el juego va a resultar rentable, sabiendo que:\n",
    "* El jugador apuesta en cada tirada 1€.\n",
    "* Cada casilla tiene un premio que son:\n",
    "    * Las casillas 1 y 11 tienen un premio de 10€.\n",
    "    * Las casillas 2 y 10 tienen un premio de 5€.\n",
    "    * Las casillas 3 y 9 tienen un premio de 2€.\n",
    "    * Las casillas 4 y 8 tienen un premio de 1€.\n",
    "    * Las casillas 5 y 7 tienen un premio de 0,5€.\n",
    "    * La casilla 6 no tiene premio.\n",
    "\n",
    "Para conocer si la máquina resulta rentable se ha decidio realizar un simulador en Python, utilizando sus funcionalidades base, para decidir si la bola cae hacia un lado u otro se puede usar cualquier paquete de generación de números aleatorios vistos en clase.\n",
    "\n",
    "1. Programa una función que simule el juego de azar anterior, como salida la función debe proporcionar un diccionario con dos elementos el primero llamado `premio` debe contener el premio obtenido, el seguno debe ser `secuencia` y debe contener una lista con la trayectoria que ha seguido la bola indicando de alguna forma si en cada nivel ha ido hacia la izquierda o hacia la derecha.\n",
    "\n"
   ]
  },
  {
   "cell_type": "code",
   "execution_count": 373,
   "id": "cc08a1e0",
   "metadata": {},
   "outputs": [
    {
     "name": "stdout",
     "output_type": "stream",
     "text": [
      "Premio obtenido:  5\n",
      "Secuencia del juego:  [1, 0, 1, 1, 1, 1, 1, 1, 1, 1]\n"
     ]
    }
   ],
   "source": [
    "import random\n",
    "\n",
    "def trayectoria():\n",
    "    \"\"\"Esta función simula un juego de azar en el cual se genera una secuencia de 10 resultados aleatorios (0 o 1) y se suma el resultado total para obtener un premio según una tabla de premios predefinida. \n",
    "    La función devuelve un diccionario con el premio obtenido y la secuencia del juego.\"\"\"\n",
    "    premios = {0: 10, 1: 5, 2: 2, 3: 1, 4: 0.5, 5: 0, 6: 0.5, 7: 1, 8: 2, 9: 5, 10: 10}\n",
    "    trayectoria = []\n",
    "    for _ in range(10):\n",
    "        resultado = random.choice([0, 1])\n",
    "        trayectoria.append(resultado)\n",
    "    premio = premios[sum(trayectoria)]\n",
    "    return {\"premio\": premio, \"secuencia\": trayectoria}\n",
    "\n",
    "resultado_juego = trayectoria()\n",
    "print(\"Premio obtenido: \", resultado_juego[\"premio\"])\n",
    "print(\"Secuencia del juego: \", resultado_juego[\"secuencia\"])\n"
   ]
  },
  {
   "cell_type": "code",
   "execution_count": 376,
   "id": "193567cb",
   "metadata": {},
   "outputs": [],
   "source": []
  },
  {
   "cell_type": "markdown",
   "id": "02142b6d",
   "metadata": {},
   "source": [
    "---\n",
    "* En esta funcion usamos un diccionario \"premios\" para asignar un premio a cada sumatoria de la trayectoria, luego guardamos la trayectoria en una lista y se retorna en un diccionario junto al premio obtenido.\n",
    "---"
   ]
  },
  {
   "cell_type": "markdown",
   "id": "d8335589",
   "metadata": {},
   "source": [
    "**1.8.2. Para comprobar si el premio resulta rentable se debe realizar:**\n",
    "+ Ejecutar el juego 10.000 veces.\n",
    "+ Si la cantidad de premios abonada es menor que las apuestas realizadas el juego será rentable ¿lo es?.\n",
    "+ ¿Cuál es el premio promedio?\n",
    "+ ¿Qué porcentaje de tiradas ha resultado cada casilla?\n",
    "+ ¿Cuántas veces se ha dado el mayor premio?\n",
    "+ ¿En qué porcentaje de tiradas se ha obtenido un premio inferior a la apuesta realizada?"
   ]
  },
  {
   "cell_type": "code",
   "execution_count": 227,
   "id": "bd1f4e44",
   "metadata": {},
   "outputs": [],
   "source": [
    "import random"
   ]
  },
  {
   "cell_type": "code",
   "execution_count": 367,
   "id": "dfccc12a",
   "metadata": {},
   "outputs": [],
   "source": [
    "def juego():\n",
    "    \"\"\"Juego aleatorio que recrea 10000 tiradas para saber si este sistema de loteria es rentable\"\"\"\n",
    "    premios = {0: 10, 1: 5, 2: 2, 3: 1, 4: 0.5, 5: 0, 6: 0.5, 7: 1, 8: 2, 9: 5, 10: 10}\n",
    "    registro_premios = []\n",
    "    registro_casillas = []\n",
    "    for _ in range(10000):\n",
    "        resultado = sum(random.choices([0, 1], k=10))\n",
    "        registro_premios.append(premios[resultado])\n",
    "        registro_casillas.append(resultado)\n",
    "\n",
    "    valor_total_apuestas = 10000\n",
    "    valor_total_premios = sum(registro_premios)\n",
    "    premio_promedio = valor_total_premios / 10000\n",
    "    print(\"Premio promedio: \", premio_promedio)\n",
    "    if valor_total_premios < valor_total_apuestas:\n",
    "        print(\"El juego es rentable\")\n",
    "    else:\n",
    "        print(\"El juego no es rentable\")\n",
    "    for i in range(11):\n",
    "        porcentaje_casilla = registro_casillas.count(i)/10000 *100\n",
    "        print(\"El porcentaje de tiradas en la casilla {} es: {:.2f}%\".format(i, porcentaje_casilla))\n",
    "    mayor_premio = registro_premios.count(10)\n",
    "    print(\"El mayor premio se ha dado {} veces\".format(mayor_premio))\n",
    "    porcentaje_premio_inferior = sum(1 for premio in registro_premios if premio <= 0.5) / 10000 * 100\n",
    "    print(\"El porcentaje de tiradas con premio inferior a la apuesta es: {:.2f}%\".format(porcentaje_premio_inferior))\n"
   ]
  },
  {
   "cell_type": "code",
   "execution_count": 353,
   "id": "6f78d6e4",
   "metadata": {
    "scrolled": false
   },
   "outputs": [
    {
     "name": "stdout",
     "output_type": "stream",
     "text": [
      "Premio promedio:  0.7192\n",
      "El juego es rentable\n",
      "El porcentaje de tiradas en la casilla 0 es: 0.09%\n",
      "El porcentaje de tiradas en la casilla 1 es: 0.90%\n",
      "El porcentaje de tiradas en la casilla 2 es: 4.33%\n",
      "El porcentaje de tiradas en la casilla 3 es: 11.58%\n",
      "El porcentaje de tiradas en la casilla 4 es: 20.36%\n",
      "El porcentaje de tiradas en la casilla 5 es: 24.69%\n",
      "El porcentaje de tiradas en la casilla 6 es: 21.26%\n",
      "El porcentaje de tiradas en la casilla 7 es: 11.61%\n",
      "El porcentaje de tiradas en la casilla 8 es: 4.18%\n",
      "El porcentaje de tiradas en la casilla 9 es: 0.90%\n",
      "El porcentaje de tiradas en la casilla 10 es: 0.10%\n",
      "El mayor premio se ha dado 19 veces\n",
      "El porcentaje de tiradas con premio inferior a la apuesta es: 66.31%\n"
     ]
    }
   ],
   "source": [
    "juego()"
   ]
  },
  {
   "cell_type": "markdown",
   "id": "10a16e19",
   "metadata": {},
   "source": [
    "**1.8.3 Se desea crear dos versiones más agresivas. Como jugador ¿a cuál de las dos apostarías(fundamenta tu respuesta usando el simulador)? ¿Coincide con lo que esperabas de antemano?**\n",
    "+ Solo reciben premio las casillas 1 y 11, pero el premio es de 1.000€.\n",
    "+ Solo recibe premio la casilla 6, pero el premio es de 100€."
   ]
  },
  {
   "cell_type": "markdown",
   "id": "ae93c5b5",
   "metadata": {},
   "source": [
    "> Como jugador, apostaría por la versión en la cual sólo recibe premio en la casilla 6, pero el premio es de 100€. La razón de esto es que aunque el premio en esta versión es menor que en la otra, las probabilidades de ganar son mayores ya que es de un 24%, mientras que la suma de las otras dos juntas no llegan a 0,20%.\n",
    "\n",
    "> Y si, confirma las simulciones mi teoría."
   ]
  },
  {
   "cell_type": "code",
   "execution_count": 368,
   "id": "441c2cf8",
   "metadata": {},
   "outputs": [],
   "source": [
    "def juego_version_1():\n",
    "    \"\"\"Juego aleatorio que recrea 10000 tiradas para saber si este sistema de loteria es rentable en el que se han modificado los premios dejando solo la casilla 6 con 100 \"\"\"\n",
    "    premios = {0: 0, 1: 0, 2: 0, 3: 0, 4: 0, 5: 100, 6: 0, 7: 0, 8: 0, 9: 0, 10: 0}\n",
    "    registro_premios = []\n",
    "    registro_casillas = []\n",
    "    for _ in range(10000):\n",
    "        resultado = sum(random.choices([0, 1], k=10))\n",
    "        registro_premios.append(premios[resultado])\n",
    "        registro_casillas.append(resultado)\n",
    "\n",
    "    valor_total_apuestas = 10000\n",
    "    valor_total_premios = sum(registro_premios)\n",
    "    premio_promedio = valor_total_premios / 10000\n",
    "    print(\"Premio promedio: \", premio_promedio)\n",
    "    if valor_total_premios < valor_total_apuestas:\n",
    "        print(\"El juego es rentable\")\n",
    "    else:\n",
    "        print(\"El juego no es rentable\")\n",
    "    for i in range(11):\n",
    "        porcentaje_casilla = registro_casillas.count(i)/10000 *100\n",
    "        print(\"El porcentaje de tiradas en la casilla {} es: {:.2f}%\".format(i, porcentaje_casilla))\n",
    "    mayor_premio = registro_premios.count(10)\n",
    "    print(\"El mayor premio se ha dado {} veces\".format(mayor_premio))\n",
    "    porcentaje_premio_inferior = sum(1 for premio in registro_premios if premio <= 0.5) / 10000 * 100\n",
    "    print(\"El porcentaje de tiradas con premio inferior a la apuesta es: {:.2f}%\".format(porcentaje_premio_inferior))"
   ]
  },
  {
   "cell_type": "code",
   "execution_count": 346,
   "id": "e5342729",
   "metadata": {
    "scrolled": true
   },
   "outputs": [
    {
     "name": "stdout",
     "output_type": "stream",
     "text": [
      "Premio promedio:  24.71\n",
      "El juego no es rentable\n",
      "El porcentaje de tiradas en la casilla 0 es: 0.08%\n",
      "El porcentaje de tiradas en la casilla 1 es: 1.14%\n",
      "El porcentaje de tiradas en la casilla 2 es: 4.46%\n",
      "El porcentaje de tiradas en la casilla 3 es: 11.78%\n",
      "El porcentaje de tiradas en la casilla 4 es: 21.20%\n",
      "El porcentaje de tiradas en la casilla 5 es: 24.71%\n",
      "El porcentaje de tiradas en la casilla 6 es: 19.89%\n",
      "El porcentaje de tiradas en la casilla 7 es: 11.15%\n",
      "El porcentaje de tiradas en la casilla 8 es: 4.51%\n",
      "El porcentaje de tiradas en la casilla 9 es: 1.01%\n",
      "El porcentaje de tiradas en la casilla 10 es: 0.07%\n",
      "El mayor premio se ha dado 0 veces\n",
      "El porcentaje de tiradas con premio inferior a la apuesta es: 75.29%\n"
     ]
    }
   ],
   "source": [
    "juego_version_1()"
   ]
  },
  {
   "cell_type": "code",
   "execution_count": 371,
   "id": "6d4b3efa",
   "metadata": {},
   "outputs": [],
   "source": [
    "def juego_version_2():\n",
    "    \"\"\"\"Juego aleatorio que recrea 10000 tiradas para saber si este sistema de loteria es rentable en el que se han modificado los premios dejando 1 y 11 con 1000. \"\"\"\n",
    "    premios = {0: 1000, 1: 0, 2: 0, 3: 0, 4: 0, 5: 0, 6: 0, 7: 0, 8: 0, 9: 0, 10: 1000}\n",
    "    registro_premios = []\n",
    "    registro_casillas = []\n",
    "    for _ in range(10000):\n",
    "        resultado = sum(random.choices([0, 1], k=10))\n",
    "        registro_premios.append(premios[resultado])\n",
    "        registro_casillas.append(resultado)\n",
    "\n",
    "    valor_total_apuestas = 10000\n",
    "    valor_total_premios = sum(registro_premios)\n",
    "    premio_promedio = valor_total_premios / 10000\n",
    "    print(\"Premio promedio: \", premio_promedio)\n",
    "    if valor_total_premios < valor_total_apuestas:\n",
    "        print(\"El juego es rentable\")\n",
    "    else:\n",
    "        print(\"El juego no es rentable\")\n",
    "    for i in range(11):\n",
    "        porcentaje_casilla = registro_casillas.count(i)/10000 *100\n",
    "        print(\"El porcentaje de tiradas en la casilla {} es: {:.2f}%\".format(i, porcentaje_casilla))\n",
    "    mayor_premio = registro_premios.count(10)\n",
    "    print(\"El mayor premio se ha dado {} veces\".format(mayor_premio))\n",
    "    porcentaje_premio_inferior = sum(1 for premio in registro_premios if premio <= 0.5) / 10000 * 100\n",
    "    print(\"El porcentaje de tiradas con premio inferior a la apuesta es: {:.2f}%\".format(porcentaje_premio_inferior))"
   ]
  },
  {
   "cell_type": "code",
   "execution_count": 345,
   "id": "b34a7da3",
   "metadata": {
    "scrolled": true
   },
   "outputs": [
    {
     "name": "stdout",
     "output_type": "stream",
     "text": [
      "Premio promedio:  1.5\n",
      "El juego no es rentable\n",
      "El porcentaje de tiradas en la casilla 0 es: 0.07%\n",
      "El porcentaje de tiradas en la casilla 1 es: 0.73%\n",
      "El porcentaje de tiradas en la casilla 2 es: 4.42%\n",
      "El porcentaje de tiradas en la casilla 3 es: 11.71%\n",
      "El porcentaje de tiradas en la casilla 4 es: 20.50%\n",
      "El porcentaje de tiradas en la casilla 5 es: 24.68%\n",
      "El porcentaje de tiradas en la casilla 6 es: 20.18%\n",
      "El porcentaje de tiradas en la casilla 7 es: 11.68%\n",
      "El porcentaje de tiradas en la casilla 8 es: 4.87%\n",
      "El porcentaje de tiradas en la casilla 9 es: 1.08%\n",
      "El porcentaje de tiradas en la casilla 10 es: 0.08%\n",
      "El mayor premio se ha dado 0 veces\n",
      "El porcentaje de tiradas con premio inferior a la apuesta es: 99.85%\n"
     ]
    }
   ],
   "source": [
    "juego_version_2()"
   ]
  }
 ],
 "metadata": {
  "kernelspec": {
   "display_name": "Python 3 (ipykernel)",
   "language": "python",
   "name": "python3"
  },
  "language_info": {
   "codemirror_mode": {
    "name": "ipython",
    "version": 3
   },
   "file_extension": ".py",
   "mimetype": "text/x-python",
   "name": "python",
   "nbconvert_exporter": "python",
   "pygments_lexer": "ipython3",
   "version": "3.9.13"
  }
 },
 "nbformat": 4,
 "nbformat_minor": 5
}
